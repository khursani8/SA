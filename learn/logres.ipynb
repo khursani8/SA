{
 "cells": [
  {
   "cell_type": "code",
   "execution_count": 1,
   "metadata": {},
   "outputs": [],
   "source": [
    "import torch\n",
    "import torch.nn as nn\n",
    "import torchvision\n",
    "import torchvision.transforms as transforms"
   ]
  },
  {
   "cell_type": "code",
   "execution_count": 2,
   "metadata": {},
   "outputs": [
    {
     "data": {
      "text/plain": [
       "Dataset MNIST\n",
       "    Number of datapoints: 60000\n",
       "    Root location: ../data\n",
       "    Split: Train"
      ]
     },
     "execution_count": 2,
     "metadata": {},
     "output_type": "execute_result"
    }
   ],
   "source": [
    "train_ds = torchvision.datasets.MNIST(\n",
    "    root='../data',\n",
    "    train=True,\n",
    "    transform=transforms.ToTensor(),\n",
    "    download=True\n",
    ")\n",
    "train_ds"
   ]
  },
  {
   "cell_type": "code",
   "execution_count": 3,
   "metadata": {},
   "outputs": [
    {
     "data": {
      "text/plain": [
       "Dataset MNIST\n",
       "    Number of datapoints: 10000\n",
       "    Root location: ../data\n",
       "    Split: Test"
      ]
     },
     "execution_count": 3,
     "metadata": {},
     "output_type": "execute_result"
    }
   ],
   "source": [
    "test_ds = torchvision.datasets.MNIST(\n",
    "    root='../data',\n",
    "    train=False,\n",
    "    transform=transforms.ToTensor()\n",
    ")\n",
    "test_ds"
   ]
  },
  {
   "cell_type": "code",
   "execution_count": 4,
   "metadata": {},
   "outputs": [],
   "source": [
    "train_dl = torch.utils.data.DataLoader(train_ds,32,True)\n",
    "test_dl = torch.utils.data.DataLoader(test_ds,32,False)"
   ]
  },
  {
   "cell_type": "code",
   "execution_count": 5,
   "metadata": {},
   "outputs": [],
   "source": [
    "input_size = train_ds[0][0].numel()"
   ]
  },
  {
   "cell_type": "code",
   "execution_count": 6,
   "metadata": {},
   "outputs": [
    {
     "data": {
      "text/plain": [
       "Linear(in_features=784, out_features=10, bias=True)"
      ]
     },
     "execution_count": 6,
     "metadata": {},
     "output_type": "execute_result"
    }
   ],
   "source": [
    "model = nn.Linear(input_size,len(train_ds.classes))\n",
    "model"
   ]
  },
  {
   "cell_type": "code",
   "execution_count": 7,
   "metadata": {},
   "outputs": [],
   "source": [
    "criterion = nn.CrossEntropyLoss()\n",
    "optimizer = torch.optim.Adam(model.parameters(),lr=1e-3)"
   ]
  },
  {
   "cell_type": "code",
   "execution_count": 8,
   "metadata": {},
   "outputs": [],
   "source": [
    "from tqdm import tqdm_notebook as tqdm"
   ]
  },
  {
   "cell_type": "code",
   "execution_count": 9,
   "metadata": {},
   "outputs": [],
   "source": [
    "def one_epoch_man(model,train_dl,test_dl):\n",
    "    model = model.cuda()\n",
    "    for i,(images,labels) in enumerate(tqdm(train_dl)):\n",
    "        model.train()\n",
    "        images,labels = images.cuda(),labels.cuda()\n",
    "        optimizer.zero_grad()\n",
    "\n",
    "        preds = model(images.view(images.size(0),-1))\n",
    "\n",
    "        loss = criterion(preds,labels)\n",
    "\n",
    "        loss.backward()\n",
    "        optimizer.step()\n",
    "        if(i%500==0):\n",
    "            correct = 0\n",
    "            total = 0\n",
    "            print(f'loss: {loss.item()}')\n",
    "            for img,y in test_dl:\n",
    "                model.eval()\n",
    "                img,y = img.cuda(),y.cuda()\n",
    "                preds = model(img.view(img.size(0),-1))\n",
    "                preds = preds.argmax(1)\n",
    "                total += preds.size(0)\n",
    "                correct += (preds==y).sum()\n",
    "            print(f'{correct} / {total}')"
   ]
  },
  {
   "cell_type": "code",
   "execution_count": 10,
   "metadata": {},
   "outputs": [
    {
     "data": {
      "application/vnd.jupyter.widget-view+json": {
       "model_id": "dab69f17d0b64777bc870b6775e40724",
       "version_major": 2,
       "version_minor": 0
      },
      "text/plain": [
       "HBox(children=(IntProgress(value=0, max=1875), HTML(value='')))"
      ]
     },
     "metadata": {},
     "output_type": "display_data"
    },
    {
     "name": "stdout",
     "output_type": "stream",
     "text": [
      "loss: 2.307391881942749\n",
      "1448 / 10000\n",
      "loss: 0.5055556893348694\n",
      "8944 / 10000\n",
      "loss: 0.5419247150421143\n",
      "9059 / 10000\n",
      "loss: 0.33290350437164307\n",
      "9134 / 10000\n",
      "\n"
     ]
    },
    {
     "data": {
      "application/vnd.jupyter.widget-view+json": {
       "model_id": "3b4cae4a45cf4731a7396910c6ddef88",
       "version_major": 2,
       "version_minor": 0
      },
      "text/plain": [
       "HBox(children=(IntProgress(value=0, max=1875), HTML(value='')))"
      ]
     },
     "metadata": {},
     "output_type": "display_data"
    },
    {
     "name": "stdout",
     "output_type": "stream",
     "text": [
      "loss: 0.10277147591114044\n",
      "9141 / 10000\n",
      "loss: 0.5010400414466858\n",
      "9165 / 10000\n",
      "loss: 0.3365917205810547\n",
      "9194 / 10000\n",
      "loss: 0.6060167551040649\n",
      "9209 / 10000\n",
      "\n"
     ]
    },
    {
     "data": {
      "application/vnd.jupyter.widget-view+json": {
       "model_id": "730b1404b95e454ba1e0b9baa8fdf55b",
       "version_major": 2,
       "version_minor": 0
      },
      "text/plain": [
       "HBox(children=(IntProgress(value=0, max=1875), HTML(value='')))"
      ]
     },
     "metadata": {},
     "output_type": "display_data"
    },
    {
     "name": "stdout",
     "output_type": "stream",
     "text": [
      "loss: 0.3381955623626709\n",
      "9234 / 10000\n",
      "loss: 0.4573444724082947\n",
      "9219 / 10000\n",
      "loss: 0.5584512948989868\n",
      "9222 / 10000\n",
      "loss: 0.1452184021472931\n",
      "9249 / 10000\n",
      "\n"
     ]
    },
    {
     "data": {
      "application/vnd.jupyter.widget-view+json": {
       "model_id": "72cf6de5a1d9496ca4a98e3df2d75a80",
       "version_major": 2,
       "version_minor": 0
      },
      "text/plain": [
       "HBox(children=(IntProgress(value=0, max=1875), HTML(value='')))"
      ]
     },
     "metadata": {},
     "output_type": "display_data"
    },
    {
     "name": "stdout",
     "output_type": "stream",
     "text": [
      "loss: 0.26949429512023926\n",
      "9238 / 10000\n",
      "loss: 0.40749120712280273\n",
      "9237 / 10000\n",
      "loss: 0.4994536340236664\n",
      "9245 / 10000\n",
      "loss: 0.3265574276447296\n",
      "9255 / 10000\n",
      "\n"
     ]
    },
    {
     "data": {
      "application/vnd.jupyter.widget-view+json": {
       "model_id": "912f821bf1af418d92f91096a66ed5e2",
       "version_major": 2,
       "version_minor": 0
      },
      "text/plain": [
       "HBox(children=(IntProgress(value=0, max=1875), HTML(value='')))"
      ]
     },
     "metadata": {},
     "output_type": "display_data"
    },
    {
     "name": "stdout",
     "output_type": "stream",
     "text": [
      "loss: 0.09514773637056351\n",
      "9241 / 10000\n",
      "loss: 0.16090840101242065\n",
      "9236 / 10000\n",
      "loss: 0.322355180978775\n",
      "9237 / 10000\n",
      "loss: 0.39800000190734863\n",
      "9257 / 10000\n",
      "\n"
     ]
    },
    {
     "data": {
      "application/vnd.jupyter.widget-view+json": {
       "model_id": "b34d5743b0e34020b2e27bd601e43c40",
       "version_major": 2,
       "version_minor": 0
      },
      "text/plain": [
       "HBox(children=(IntProgress(value=0, max=1875), HTML(value='')))"
      ]
     },
     "metadata": {},
     "output_type": "display_data"
    },
    {
     "name": "stdout",
     "output_type": "stream",
     "text": [
      "loss: 0.37501662969589233\n",
      "9252 / 10000\n",
      "loss: 0.0905991643667221\n",
      "9254 / 10000\n",
      "loss: 0.2562391757965088\n",
      "9276 / 10000\n",
      "loss: 0.18049339950084686\n",
      "9268 / 10000\n",
      "\n"
     ]
    },
    {
     "data": {
      "application/vnd.jupyter.widget-view+json": {
       "model_id": "d7886fe841674bc8abae0d73f0067277",
       "version_major": 2,
       "version_minor": 0
      },
      "text/plain": [
       "HBox(children=(IntProgress(value=0, max=1875), HTML(value='')))"
      ]
     },
     "metadata": {},
     "output_type": "display_data"
    },
    {
     "name": "stdout",
     "output_type": "stream",
     "text": [
      "loss: 0.3158821165561676\n",
      "9273 / 10000\n",
      "loss: 0.13705819845199585\n",
      "9274 / 10000\n",
      "loss: 0.0626390129327774\n",
      "9261 / 10000\n",
      "loss: 0.040510986000299454\n",
      "9262 / 10000\n",
      "\n"
     ]
    },
    {
     "data": {
      "application/vnd.jupyter.widget-view+json": {
       "model_id": "1afac89ae79249d9941a53badb19667e",
       "version_major": 2,
       "version_minor": 0
      },
      "text/plain": [
       "HBox(children=(IntProgress(value=0, max=1875), HTML(value='')))"
      ]
     },
     "metadata": {},
     "output_type": "display_data"
    },
    {
     "name": "stdout",
     "output_type": "stream",
     "text": [
      "loss: 0.11182151734828949\n",
      "9249 / 10000\n",
      "loss: 0.10912596434354782\n",
      "9279 / 10000\n",
      "loss: 0.3939589560031891\n",
      "9285 / 10000\n",
      "loss: 0.3031099736690521\n",
      "9267 / 10000\n",
      "\n"
     ]
    },
    {
     "data": {
      "application/vnd.jupyter.widget-view+json": {
       "model_id": "a3ff607e0d234c4db2b20fe1b28cd71c",
       "version_major": 2,
       "version_minor": 0
      },
      "text/plain": [
       "HBox(children=(IntProgress(value=0, max=1875), HTML(value='')))"
      ]
     },
     "metadata": {},
     "output_type": "display_data"
    },
    {
     "name": "stdout",
     "output_type": "stream",
     "text": [
      "loss: 0.24903181195259094\n",
      "9253 / 10000\n",
      "loss: 0.31026411056518555\n",
      "9251 / 10000\n",
      "loss: 0.2181904911994934\n",
      "9250 / 10000\n",
      "loss: 0.4772520661354065\n",
      "9260 / 10000\n",
      "\n"
     ]
    },
    {
     "data": {
      "application/vnd.jupyter.widget-view+json": {
       "model_id": "241d6a9bc6c049d496db8b0b582d18c8",
       "version_major": 2,
       "version_minor": 0
      },
      "text/plain": [
       "HBox(children=(IntProgress(value=0, max=1875), HTML(value='')))"
      ]
     },
     "metadata": {},
     "output_type": "display_data"
    },
    {
     "name": "stdout",
     "output_type": "stream",
     "text": [
      "loss: 0.24217399954795837\n",
      "9270 / 10000\n",
      "loss: 0.23280517756938934\n",
      "9242 / 10000\n",
      "loss: 0.1942419409751892\n",
      "9280 / 10000\n",
      "loss: 0.44210106134414673\n",
      "9260 / 10000\n",
      "\n"
     ]
    }
   ],
   "source": [
    "for i in range(10):\n",
    "    one_epoch_man(model,train_dl,test_dl)"
   ]
  },
  {
   "cell_type": "code",
   "execution_count": null,
   "metadata": {},
   "outputs": [],
   "source": []
  }
 ],
 "metadata": {
  "kernelspec": {
   "display_name": "Python 3",
   "language": "python",
   "name": "python3"
  },
  "language_info": {
   "codemirror_mode": {
    "name": "ipython",
    "version": 3
   },
   "file_extension": ".py",
   "mimetype": "text/x-python",
   "name": "python",
   "nbconvert_exporter": "python",
   "pygments_lexer": "ipython3",
   "version": "3.6.8"
  }
 },
 "nbformat": 4,
 "nbformat_minor": 2
}
