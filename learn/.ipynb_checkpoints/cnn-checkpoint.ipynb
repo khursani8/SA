{
 "cells": [
  {
   "cell_type": "code",
   "execution_count": 1,
   "metadata": {},
   "outputs": [],
   "source": [
    "import torch\n",
    "import torch.nn as nn\n",
    "import torchvision\n",
    "import torchvision.transforms as transforms"
   ]
  },
  {
   "cell_type": "code",
   "execution_count": 2,
   "metadata": {},
   "outputs": [
    {
     "data": {
      "text/plain": [
       "Dataset MNIST\n",
       "    Number of datapoints: 60000\n",
       "    Root location: ../data\n",
       "    Split: Train"
      ]
     },
     "execution_count": 2,
     "metadata": {},
     "output_type": "execute_result"
    }
   ],
   "source": [
    "train_ds = torchvision.datasets.MNIST(\n",
    "    root='../data',\n",
    "    train=True,\n",
    "    transform=transforms.ToTensor(),\n",
    "    download=True\n",
    ")\n",
    "train_ds"
   ]
  },
  {
   "cell_type": "code",
   "execution_count": 3,
   "metadata": {},
   "outputs": [
    {
     "data": {
      "text/plain": [
       "Dataset MNIST\n",
       "    Number of datapoints: 10000\n",
       "    Root location: ../data\n",
       "    Split: Test"
      ]
     },
     "execution_count": 3,
     "metadata": {},
     "output_type": "execute_result"
    }
   ],
   "source": [
    "test_ds = torchvision.datasets.MNIST(\n",
    "    root='../data',\n",
    "    train=False,\n",
    "    transform=transforms.ToTensor()\n",
    ")\n",
    "test_ds"
   ]
  },
  {
   "cell_type": "code",
   "execution_count": 4,
   "metadata": {},
   "outputs": [],
   "source": [
    "train_dl = torch.utils.data.DataLoader(train_ds,32,True)\n",
    "test_dl = torch.utils.data.DataLoader(test_ds,32,False)"
   ]
  },
  {
   "cell_type": "code",
   "execution_count": 5,
   "metadata": {},
   "outputs": [],
   "source": [
    "input_size = train_ds[0][0].numel()"
   ]
  },
  {
   "cell_type": "code",
   "execution_count": 6,
   "metadata": {},
   "outputs": [],
   "source": [
    "class Model(nn.Module):\n",
    "    def __init__(self,input_size,hidden_size,num_classes):\n",
    "        super(Model,self).__init__()\n",
    "        self.fc1 = nn.Linear(input_size,hidden_size)\n",
    "        self.relu = nn.ReLU()\n",
    "        self.fc2 = nn.Linear(hidden_size,num_classes)\n",
    "        \n",
    "    def forward(self,x):\n",
    "        x = self.fc1(x)\n",
    "        x = self.relu(x)\n",
    "        x = self.fc2(x)\n",
    "        return x"
   ]
  },
  {
   "cell_type": "code",
   "execution_count": 7,
   "metadata": {},
   "outputs": [
    {
     "data": {
      "text/plain": [
       "Model(\n",
       "  (fc1): Linear(in_features=784, out_features=512, bias=True)\n",
       "  (relu): ReLU()\n",
       "  (fc2): Linear(in_features=512, out_features=10, bias=True)\n",
       ")"
      ]
     },
     "execution_count": 7,
     "metadata": {},
     "output_type": "execute_result"
    }
   ],
   "source": [
    "model = Model(input_size,512,len(train_ds.classes))\n",
    "model"
   ]
  },
  {
   "cell_type": "code",
   "execution_count": 8,
   "metadata": {},
   "outputs": [],
   "source": [
    "criterion = nn.CrossEntropyLoss()\n",
    "optimizer = torch.optim.Adam(model.parameters(),lr=1e-3)"
   ]
  },
  {
   "cell_type": "code",
   "execution_count": 9,
   "metadata": {},
   "outputs": [],
   "source": [
    "from tqdm import tqdm_notebook as tqdm"
   ]
  },
  {
   "cell_type": "code",
   "execution_count": 10,
   "metadata": {},
   "outputs": [],
   "source": [
    "def one_epoch_man(model,train_dl,test_dl):\n",
    "    model = model.cuda()\n",
    "    for i,(images,labels) in enumerate(tqdm(train_dl)):\n",
    "        model.train()\n",
    "        images,labels = images.cuda(),labels.cuda()\n",
    "        optimizer.zero_grad()\n",
    "\n",
    "        preds = model(images.view(images.size(0),-1))\n",
    "\n",
    "        loss = criterion(preds,labels)\n",
    "\n",
    "        loss.backward()\n",
    "        optimizer.step()\n",
    "        if(i%500==0):\n",
    "            correct = 0\n",
    "            total = 0\n",
    "            print(f'loss: {loss.item()}')\n",
    "            for img,y in test_dl:\n",
    "                model.eval()\n",
    "                img,y = img.cuda(),y.cuda()\n",
    "                preds = model(img.view(img.size(0),-1))\n",
    "                preds = preds.argmax(1)\n",
    "                total += preds.size(0)\n",
    "                correct += (preds==y).sum()\n",
    "            print(f'{correct} / {total}')"
   ]
  },
  {
   "cell_type": "code",
   "execution_count": 11,
   "metadata": {},
   "outputs": [
    {
     "data": {
      "application/vnd.jupyter.widget-view+json": {
       "model_id": "836f91181ee6400eb3c35387e8e3ca10",
       "version_major": 2,
       "version_minor": 0
      },
      "text/plain": [
       "HBox(children=(IntProgress(value=0, max=1875), HTML(value='')))"
      ]
     },
     "metadata": {},
     "output_type": "display_data"
    },
    {
     "name": "stdout",
     "output_type": "stream",
     "text": [
      "loss: 2.303450107574463\n",
      "2032 / 10000\n",
      "loss: 0.21171051263809204\n",
      "9408 / 10000\n",
      "loss: 0.11840342730283737\n",
      "9540 / 10000\n",
      "loss: 0.08933466672897339\n",
      "9595 / 10000\n",
      "\n"
     ]
    },
    {
     "data": {
      "application/vnd.jupyter.widget-view+json": {
       "model_id": "74e4317c3d5e48cbbdc24cbc6ff1abbc",
       "version_major": 2,
       "version_minor": 0
      },
      "text/plain": [
       "HBox(children=(IntProgress(value=0, max=1875), HTML(value='')))"
      ]
     },
     "metadata": {},
     "output_type": "display_data"
    },
    {
     "name": "stdout",
     "output_type": "stream",
     "text": [
      "loss: 0.15834201872348785\n",
      "9649 / 10000\n",
      "loss: 0.056095972657203674\n",
      "9669 / 10000\n",
      "loss: 0.06765744835138321\n",
      "9719 / 10000\n",
      "loss: 0.009176060557365417\n",
      "9742 / 10000\n",
      "\n"
     ]
    },
    {
     "data": {
      "application/vnd.jupyter.widget-view+json": {
       "model_id": "ddbb79e09e864fcc9f012e51a0cec06d",
       "version_major": 2,
       "version_minor": 0
      },
      "text/plain": [
       "HBox(children=(IntProgress(value=0, max=1875), HTML(value='')))"
      ]
     },
     "metadata": {},
     "output_type": "display_data"
    },
    {
     "name": "stdout",
     "output_type": "stream",
     "text": [
      "loss: 0.009727329015731812\n",
      "9749 / 10000\n",
      "loss: 0.13334141671657562\n",
      "9756 / 10000\n",
      "loss: 0.07056547701358795\n",
      "9759 / 10000\n",
      "loss: 0.10157201439142227\n",
      "9792 / 10000\n",
      "\n"
     ]
    },
    {
     "data": {
      "application/vnd.jupyter.widget-view+json": {
       "model_id": "3478b2010aad40658e9f7d59d5fef412",
       "version_major": 2,
       "version_minor": 0
      },
      "text/plain": [
       "HBox(children=(IntProgress(value=0, max=1875), HTML(value='')))"
      ]
     },
     "metadata": {},
     "output_type": "display_data"
    },
    {
     "name": "stdout",
     "output_type": "stream",
     "text": [
      "loss: 0.06497161090373993\n",
      "9725 / 10000\n",
      "loss: 0.013200405985116959\n",
      "9779 / 10000\n",
      "loss: 0.04134632647037506\n",
      "9752 / 10000\n",
      "loss: 0.196173757314682\n",
      "9768 / 10000\n",
      "\n"
     ]
    },
    {
     "data": {
      "application/vnd.jupyter.widget-view+json": {
       "model_id": "2a1550de036b46efbd4a1548d8c18bc9",
       "version_major": 2,
       "version_minor": 0
      },
      "text/plain": [
       "HBox(children=(IntProgress(value=0, max=1875), HTML(value='')))"
      ]
     },
     "metadata": {},
     "output_type": "display_data"
    },
    {
     "name": "stdout",
     "output_type": "stream",
     "text": [
      "loss: 0.010723695158958435\n",
      "9794 / 10000\n",
      "loss: 0.04777716100215912\n",
      "9796 / 10000\n",
      "loss: 0.021515458822250366\n",
      "9810 / 10000\n",
      "loss: 0.010138049721717834\n",
      "9822 / 10000\n",
      "\n"
     ]
    },
    {
     "data": {
      "application/vnd.jupyter.widget-view+json": {
       "model_id": "99fa56c78a424e14ab9087e8265c1182",
       "version_major": 2,
       "version_minor": 0
      },
      "text/plain": [
       "HBox(children=(IntProgress(value=0, max=1875), HTML(value='')))"
      ]
     },
     "metadata": {},
     "output_type": "display_data"
    },
    {
     "name": "stdout",
     "output_type": "stream",
     "text": [
      "loss: 0.00419173389673233\n",
      "9803 / 10000\n",
      "loss: 0.0008922368288040161\n",
      "9783 / 10000\n",
      "loss: 0.00978529080748558\n",
      "9801 / 10000\n",
      "loss: 0.014179781079292297\n",
      "9806 / 10000\n",
      "\n"
     ]
    },
    {
     "data": {
      "application/vnd.jupyter.widget-view+json": {
       "model_id": "b0ea2abe8ae44dc8964bcd4538e1e518",
       "version_major": 2,
       "version_minor": 0
      },
      "text/plain": [
       "HBox(children=(IntProgress(value=0, max=1875), HTML(value='')))"
      ]
     },
     "metadata": {},
     "output_type": "display_data"
    },
    {
     "name": "stdout",
     "output_type": "stream",
     "text": [
      "loss: 0.00013455748558044434\n",
      "9783 / 10000\n",
      "loss: 0.04466291517019272\n",
      "9824 / 10000\n",
      "loss: 0.004383556544780731\n",
      "9797 / 10000\n",
      "loss: 0.002289876341819763\n",
      "9813 / 10000\n",
      "\n"
     ]
    },
    {
     "data": {
      "application/vnd.jupyter.widget-view+json": {
       "model_id": "9aabb2de3e5f4d8998c863cae57c52a4",
       "version_major": 2,
       "version_minor": 0
      },
      "text/plain": [
       "HBox(children=(IntProgress(value=0, max=1875), HTML(value='')))"
      ]
     },
     "metadata": {},
     "output_type": "display_data"
    },
    {
     "name": "stdout",
     "output_type": "stream",
     "text": [
      "loss: 0.0007619261741638184\n",
      "9788 / 10000\n",
      "loss: 0.0008009970188140869\n",
      "9813 / 10000\n",
      "loss: 0.00011439621448516846\n",
      "9771 / 10000\n",
      "loss: 0.016691170632839203\n",
      "9826 / 10000\n",
      "\n"
     ]
    },
    {
     "data": {
      "application/vnd.jupyter.widget-view+json": {
       "model_id": "157f791e268b47dc9e56e71d6ef7b9ce",
       "version_major": 2,
       "version_minor": 0
      },
      "text/plain": [
       "HBox(children=(IntProgress(value=0, max=1875), HTML(value='')))"
      ]
     },
     "metadata": {},
     "output_type": "display_data"
    },
    {
     "name": "stdout",
     "output_type": "stream",
     "text": [
      "loss: 0.04656466096639633\n",
      "9798 / 10000\n",
      "loss: 0.0012153014540672302\n",
      "9822 / 10000\n",
      "loss: 0.004689980298280716\n",
      "9799 / 10000\n",
      "loss: 0.04137860983610153\n",
      "9814 / 10000\n",
      "\n"
     ]
    },
    {
     "data": {
      "application/vnd.jupyter.widget-view+json": {
       "model_id": "78ff6566744147a0a170587b59468cda",
       "version_major": 2,
       "version_minor": 0
      },
      "text/plain": [
       "HBox(children=(IntProgress(value=0, max=1875), HTML(value='')))"
      ]
     },
     "metadata": {},
     "output_type": "display_data"
    },
    {
     "name": "stdout",
     "output_type": "stream",
     "text": [
      "loss: 0.0009190738201141357\n",
      "9816 / 10000\n",
      "loss: 0.0008556023240089417\n",
      "9813 / 10000\n",
      "loss: 0.002465665340423584\n",
      "9823 / 10000\n",
      "loss: 0.005442731082439423\n",
      "9807 / 10000\n",
      "\n"
     ]
    }
   ],
   "source": [
    "for i in range(10):\n",
    "    one_epoch_man(model,train_dl,test_dl)"
   ]
  },
  {
   "cell_type": "code",
   "execution_count": null,
   "metadata": {},
   "outputs": [],
   "source": []
  }
 ],
 "metadata": {
  "kernelspec": {
   "display_name": "Python 3",
   "language": "python",
   "name": "python3"
  },
  "language_info": {
   "codemirror_mode": {
    "name": "ipython",
    "version": 3
   },
   "file_extension": ".py",
   "mimetype": "text/x-python",
   "name": "python",
   "nbconvert_exporter": "python",
   "pygments_lexer": "ipython3",
   "version": "3.6.8"
  }
 },
 "nbformat": 4,
 "nbformat_minor": 2
}
