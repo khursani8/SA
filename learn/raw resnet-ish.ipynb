{
 "cells": [
  {
   "cell_type": "code",
   "execution_count": null,
   "metadata": {},
   "outputs": [],
   "source": [
    "import torch\n",
    "import torch.nn as nn\n",
    "import torchvision\n",
    "import torchvision.transforms as transforms"
   ]
  },
  {
   "cell_type": "code",
   "execution_count": null,
   "metadata": {},
   "outputs": [],
   "source": [
    "import optuna\n",
    "optuna.logging.disable_default_handler()"
   ]
  },
  {
   "cell_type": "code",
   "execution_count": 3,
   "metadata": {},
   "outputs": [],
   "source": [
    "from fastai.vision import *"
   ]
  },
  {
   "cell_type": "code",
   "execution_count": 4,
   "metadata": {},
   "outputs": [],
   "source": [
    "bs = 32\n",
    "transform = transforms.Compose(\n",
    "[transforms.ToTensor(),\n",
    "transforms.Normalize((.5,),(.5,))\n",
    "]\n",
    ")"
   ]
  },
  {
   "cell_type": "code",
   "execution_count": 5,
   "metadata": {},
   "outputs": [
    {
     "data": {
      "text/plain": [
       "Dataset MNIST\n",
       "    Number of datapoints: 60000\n",
       "    Root location: ../data\n",
       "    Split: Train"
      ]
     },
     "execution_count": 5,
     "metadata": {},
     "output_type": "execute_result"
    }
   ],
   "source": [
    "train_ds = torchvision.datasets.MNIST(\n",
    "    root='../data',\n",
    "    train=True,\n",
    "    transform=transform,\n",
    "    download=True\n",
    ")\n",
    "train_ds"
   ]
  },
  {
   "cell_type": "code",
   "execution_count": 6,
   "metadata": {},
   "outputs": [
    {
     "data": {
      "text/plain": [
       "Dataset MNIST\n",
       "    Number of datapoints: 10000\n",
       "    Root location: ../data\n",
       "    Split: Test"
      ]
     },
     "execution_count": 6,
     "metadata": {},
     "output_type": "execute_result"
    }
   ],
   "source": [
    "test_ds = torchvision.datasets.MNIST(\n",
    "    root='../data',\n",
    "    train=False,\n",
    "    transform=transform\n",
    ")\n",
    "test_ds"
   ]
  },
  {
   "cell_type": "code",
   "execution_count": 7,
   "metadata": {},
   "outputs": [],
   "source": [
    "train_dl = torch.utils.data.DataLoader(train_ds,bs,True,num_workers=12)\n",
    "test_dl = torch.utils.data.DataLoader(test_ds,bs,False,num_workers=12)"
   ]
  },
  {
   "cell_type": "code",
   "execution_count": 8,
   "metadata": {},
   "outputs": [],
   "source": [
    "input_size = train_ds[0][0].numel()"
   ]
  },
  {
   "cell_type": "code",
   "execution_count": 9,
   "metadata": {},
   "outputs": [
    {
     "data": {
      "text/plain": [
       "torch.Size([1, 28, 28])"
      ]
     },
     "execution_count": 9,
     "metadata": {},
     "output_type": "execute_result"
    }
   ],
   "source": [
    "train_ds[0][0].size()"
   ]
  },
  {
   "cell_type": "code",
   "execution_count": 10,
   "metadata": {},
   "outputs": [],
   "source": [
    "def conv(ni,nf):\n",
    "    return nn.Sequential(\n",
    "        nn.Conv2d(ni,nf,kernel_size=3,stride=2,padding=1),\n",
    "        nn.BatchNorm2d(nf),\n",
    "        nn.ReLU(True)\n",
    "    )"
   ]
  },
  {
   "cell_type": "code",
   "execution_count": 11,
   "metadata": {},
   "outputs": [],
   "source": [
    "def resblock(nf):\n",
    "    return nn.Sequential(\n",
    "        nn.Conv2d(nf,nf,kernel_size=3),\n",
    "        nn.Conv2d(nf,nf,kernel_size=3)\n",
    "    )"
   ]
  },
  {
   "cell_type": "code",
   "execution_count": 25,
   "metadata": {},
   "outputs": [],
   "source": [
    "class ResNet(nn.Module):\n",
    "    def __init__(self,num_class):\n",
    "        super().__init__()\n",
    "        self.cnn1 = conv(1,16) #14\n",
    "        self.res1 = res_block(16)\n",
    "        self.cnn2 = conv(16,32)#7     \n",
    "        self.res2 = res_block(32)\n",
    "        self.cnn3 = conv(32,16)#4        \n",
    "        self.res3 = res_block(16)\n",
    "#         self.cnn4 = conv(32,16)#2       \n",
    "#         self.res4 = res_block(16)\n",
    "        self.cnn5 = conv(16,num_class)#1\n",
    "    def forward(self,x):\n",
    "        x = self.cnn1(x)\n",
    "        x = x + self.res1(x)\n",
    "        x = self.cnn2(x)        \n",
    "        x = x + self.res2(x)\n",
    "        x = self.cnn3(x)        \n",
    "        x = x + self.res3(x)\n",
    "#         x = self.cnn4(x)        \n",
    "#         x = x + self.res4(x)\n",
    "        x = self.cnn5(x)\n",
    "        return x.view(x.size(0),-1)"
   ]
  },
  {
   "cell_type": "code",
   "execution_count": 26,
   "metadata": {},
   "outputs": [],
   "source": [
    "model = ResNet(10)"
   ]
  },
  {
   "cell_type": "code",
   "execution_count": 27,
   "metadata": {},
   "outputs": [],
   "source": [
    "images = next(iter(train_dl))"
   ]
  },
  {
   "cell_type": "code",
   "execution_count": 28,
   "metadata": {},
   "outputs": [],
   "source": [
    "model(images[0]);"
   ]
  },
  {
   "cell_type": "code",
   "execution_count": 29,
   "metadata": {},
   "outputs": [],
   "source": [
    "criterion = nn.CrossEntropyLoss()\n",
    "optimizer = torch.optim.Adam(model.parameters(),lr=3e-3)"
   ]
  },
  {
   "cell_type": "code",
   "execution_count": 30,
   "metadata": {},
   "outputs": [],
   "source": [
    "from tqdm import tqdm_notebook as tqdm"
   ]
  },
  {
   "cell_type": "code",
   "execution_count": 31,
   "metadata": {},
   "outputs": [],
   "source": [
    "def train(model,dl,optimizer):\n",
    "    model.cuda()\n",
    "    model.train()\n",
    "    t = tqdm(dl)\n",
    "    for i,(images,labels) in enumerate(t):\n",
    "        images,labels = images.cuda(),labels.cuda()\n",
    "        optimizer.zero_grad()\n",
    "        preds = model(images)\n",
    "        loss = criterion(preds,labels)\n",
    "        t.set_description(f'{loss.item()}')\n",
    "        t.refresh()\n",
    "        loss.backward()\n",
    "        optimizer.step()\n",
    "def test(model,dl):\n",
    "    model.cuda()\n",
    "    model.eval()\n",
    "    correct = 0\n",
    "    total = 0\n",
    "    for img,y in dl:\n",
    "        img,y = img.cuda(),y.cuda()\n",
    "        preds = model(img)\n",
    "        pred = preds.max(1, keepdim=True)[1]\n",
    "        total += preds.size(0)\n",
    "        correct += pred.eq(y.view_as(pred)).sum().item()\n",
    "    return 1-(correct / len(dl.dataset))"
   ]
  },
  {
   "cell_type": "code",
   "execution_count": null,
   "metadata": {},
   "outputs": [],
   "source": [
    "for i in range(5):\n",
    "    train(model,train_dl,optimizer)\n",
    "    test(model,test_dl)"
   ]
  },
  {
   "cell_type": "code",
   "execution_count": 32,
   "metadata": {},
   "outputs": [],
   "source": [
    "def get_optimizer(trial, model):\n",
    "    optimizer_names = ['Adam', 'MomentumSGD']\n",
    "    optimizer_name = trial.suggest_categorical('optimizer', optimizer_names)\n",
    "    weight_decay = trial.suggest_loguniform('weight_decay', 1e-10, 1e-3)\n",
    "    if optimizer_name == optimizer_names[0]: \n",
    "        adam_lr = trial.suggest_loguniform('adam_lr', 1e-5, 1e-1)\n",
    "        optimizer = optim.Adam(model.parameters(), lr=adam_lr, weight_decay=weight_decay)\n",
    "    else:\n",
    "        momentum_sgd_lr = trial.suggest_loguniform('momentum_sgd_lr', 1e-5, 1e-1)\n",
    "        optimizer = optim.SGD(model.parameters(), lr=momentum_sgd_lr,\n",
    "                              momentum=0.9, weight_decay=weight_decay)\n",
    "    return optimizer"
   ]
  },
  {
   "cell_type": "code",
   "execution_count": 33,
   "metadata": {},
   "outputs": [],
   "source": [
    "def objective_wrapper(pbar):\n",
    "    def objective(trial):\n",
    "        device = \"cuda\" if torch.cuda.is_available() else \"cpu\"\n",
    "        print(device)\n",
    "        model = ResNet(10).cuda()\n",
    "        optimizer = get_optimizer(trial, model)\n",
    "\n",
    "        for step in range(EPOCH):\n",
    "            train(model,train_dl, optimizer)\n",
    "            error_rate = test(model, test_dl)\n",
    "\n",
    "            trial.report(error_rate, step)\n",
    "            if trial.should_prune(step):\n",
    "                pbar.update()\n",
    "                raise optuna.structs.TrialPruned()\n",
    "\n",
    "        pbar.update()\n",
    "\n",
    "        return error_rate\n",
    "    \n",
    "    return objective"
   ]
  },
  {
   "cell_type": "code",
   "execution_count": 34,
   "metadata": {},
   "outputs": [
    {
     "data": {
      "application/vnd.jupyter.widget-view+json": {
       "model_id": "aa337b1bb3d54f649b83e82aad8733de",
       "version_major": 2,
       "version_minor": 0
      },
      "text/plain": [
       "HBox(children=(IntProgress(value=0, max=50), HTML(value='')))"
      ]
     },
     "metadata": {},
     "output_type": "display_data"
    },
    {
     "name": "stdout",
     "output_type": "stream",
     "text": [
      "cuda\n"
     ]
    },
    {
     "data": {
      "application/vnd.jupyter.widget-view+json": {
       "model_id": "4eec3d0a27e3488a9aeef0d6d93a7513",
       "version_major": 2,
       "version_minor": 0
      },
      "text/plain": [
       "HBox(children=(IntProgress(value=0, max=1875), HTML(value='')))"
      ]
     },
     "metadata": {},
     "output_type": "display_data"
    },
    {
     "name": "stdout",
     "output_type": "stream",
     "text": [
      "cuda\n"
     ]
    },
    {
     "data": {
      "application/vnd.jupyter.widget-view+json": {
       "model_id": "440c949f5a2e4d48a92aa01786e794be",
       "version_major": 2,
       "version_minor": 0
      },
      "text/plain": [
       "HBox(children=(IntProgress(value=0, max=1875), HTML(value='')))"
      ]
     },
     "metadata": {},
     "output_type": "display_data"
    },
    {
     "name": "stdout",
     "output_type": "stream",
     "text": [
      "cuda\n"
     ]
    },
    {
     "data": {
      "application/vnd.jupyter.widget-view+json": {
       "model_id": "323fe0ba5ead4c0dbe241cb799bb7689",
       "version_major": 2,
       "version_minor": 0
      },
      "text/plain": [
       "HBox(children=(IntProgress(value=0, max=1875), HTML(value='')))"
      ]
     },
     "metadata": {},
     "output_type": "display_data"
    },
    {
     "name": "stdout",
     "output_type": "stream",
     "text": [
      "cuda\n"
     ]
    },
    {
     "data": {
      "application/vnd.jupyter.widget-view+json": {
       "model_id": "577bd42153a34d26abaf3aeb44747901",
       "version_major": 2,
       "version_minor": 0
      },
      "text/plain": [
       "HBox(children=(IntProgress(value=0, max=1875), HTML(value='')))"
      ]
     },
     "metadata": {},
     "output_type": "display_data"
    },
    {
     "name": "stdout",
     "output_type": "stream",
     "text": [
      "cuda\n"
     ]
    },
    {
     "data": {
      "application/vnd.jupyter.widget-view+json": {
       "model_id": "fe81c8a7a48b49e0a4628f421dd4a7df",
       "version_major": 2,
       "version_minor": 0
      },
      "text/plain": [
       "HBox(children=(IntProgress(value=0, max=1875), HTML(value='')))"
      ]
     },
     "metadata": {},
     "output_type": "display_data"
    },
    {
     "name": "stdout",
     "output_type": "stream",
     "text": [
      "cuda\n"
     ]
    },
    {
     "data": {
      "application/vnd.jupyter.widget-view+json": {
       "model_id": "282d6199b7324955960fa4db190ca2c6",
       "version_major": 2,
       "version_minor": 0
      },
      "text/plain": [
       "HBox(children=(IntProgress(value=0, max=1875), HTML(value='')))"
      ]
     },
     "metadata": {},
     "output_type": "display_data"
    },
    {
     "name": "stdout",
     "output_type": "stream",
     "text": [
      "cuda\n"
     ]
    },
    {
     "data": {
      "application/vnd.jupyter.widget-view+json": {
       "model_id": "dee738e71b024c31a12f86f43c371df9",
       "version_major": 2,
       "version_minor": 0
      },
      "text/plain": [
       "HBox(children=(IntProgress(value=0, max=1875), HTML(value='')))"
      ]
     },
     "metadata": {},
     "output_type": "display_data"
    },
    {
     "name": "stdout",
     "output_type": "stream",
     "text": [
      "cuda\n"
     ]
    },
    {
     "data": {
      "application/vnd.jupyter.widget-view+json": {
       "model_id": "5b4ca979aab04a7fbdaae5eeab703195",
       "version_major": 2,
       "version_minor": 0
      },
      "text/plain": [
       "HBox(children=(IntProgress(value=0, max=1875), HTML(value='')))"
      ]
     },
     "metadata": {},
     "output_type": "display_data"
    },
    {
     "name": "stdout",
     "output_type": "stream",
     "text": [
      "cuda\n"
     ]
    },
    {
     "data": {
      "application/vnd.jupyter.widget-view+json": {
       "model_id": "6fafd194a441469aad652fb4187bd9d1",
       "version_major": 2,
       "version_minor": 0
      },
      "text/plain": [
       "HBox(children=(IntProgress(value=0, max=1875), HTML(value='')))"
      ]
     },
     "metadata": {},
     "output_type": "display_data"
    },
    {
     "name": "stdout",
     "output_type": "stream",
     "text": [
      "cuda\n"
     ]
    },
    {
     "data": {
      "application/vnd.jupyter.widget-view+json": {
       "model_id": "0246611af4f34e8792257f9d8ef21bf6",
       "version_major": 2,
       "version_minor": 0
      },
      "text/plain": [
       "HBox(children=(IntProgress(value=0, max=1875), HTML(value='')))"
      ]
     },
     "metadata": {},
     "output_type": "display_data"
    },
    {
     "name": "stdout",
     "output_type": "stream",
     "text": [
      "cuda\n"
     ]
    },
    {
     "data": {
      "application/vnd.jupyter.widget-view+json": {
       "model_id": "440a02574ade41eea03d5098fb74bacf",
       "version_major": 2,
       "version_minor": 0
      },
      "text/plain": [
       "HBox(children=(IntProgress(value=0, max=1875), HTML(value='')))"
      ]
     },
     "metadata": {},
     "output_type": "display_data"
    },
    {
     "name": "stdout",
     "output_type": "stream",
     "text": [
      "cuda\n"
     ]
    },
    {
     "data": {
      "application/vnd.jupyter.widget-view+json": {
       "model_id": "c6e3cdcfa9fd4fe88bec913971f6461c",
       "version_major": 2,
       "version_minor": 0
      },
      "text/plain": [
       "HBox(children=(IntProgress(value=0, max=1875), HTML(value='')))"
      ]
     },
     "metadata": {},
     "output_type": "display_data"
    },
    {
     "name": "stdout",
     "output_type": "stream",
     "text": [
      "cuda\n"
     ]
    },
    {
     "data": {
      "application/vnd.jupyter.widget-view+json": {
       "model_id": "21369f671dc5481793476c6e1546e942",
       "version_major": 2,
       "version_minor": 0
      },
      "text/plain": [
       "HBox(children=(IntProgress(value=0, max=1875), HTML(value='')))"
      ]
     },
     "metadata": {},
     "output_type": "display_data"
    },
    {
     "name": "stdout",
     "output_type": "stream",
     "text": [
      "cuda\n"
     ]
    },
    {
     "data": {
      "application/vnd.jupyter.widget-view+json": {
       "model_id": "aff8be5790fe45d2805ccf2c8d114c7e",
       "version_major": 2,
       "version_minor": 0
      },
      "text/plain": [
       "HBox(children=(IntProgress(value=0, max=1875), HTML(value='')))"
      ]
     },
     "metadata": {},
     "output_type": "display_data"
    },
    {
     "name": "stdout",
     "output_type": "stream",
     "text": [
      "cuda\n"
     ]
    },
    {
     "data": {
      "application/vnd.jupyter.widget-view+json": {
       "model_id": "7e3d3fd415bc4808979a6cebe4517e0b",
       "version_major": 2,
       "version_minor": 0
      },
      "text/plain": [
       "HBox(children=(IntProgress(value=0, max=1875), HTML(value='')))"
      ]
     },
     "metadata": {},
     "output_type": "display_data"
    },
    {
     "name": "stdout",
     "output_type": "stream",
     "text": [
      "cuda\n"
     ]
    },
    {
     "data": {
      "application/vnd.jupyter.widget-view+json": {
       "model_id": "4c80a4f084f143e3adc4ad3a72678a33",
       "version_major": 2,
       "version_minor": 0
      },
      "text/plain": [
       "HBox(children=(IntProgress(value=0, max=1875), HTML(value='')))"
      ]
     },
     "metadata": {},
     "output_type": "display_data"
    },
    {
     "name": "stdout",
     "output_type": "stream",
     "text": [
      "cuda\n"
     ]
    },
    {
     "data": {
      "application/vnd.jupyter.widget-view+json": {
       "model_id": "d1ca3f97014245a3bfab20ab98dccba6",
       "version_major": 2,
       "version_minor": 0
      },
      "text/plain": [
       "HBox(children=(IntProgress(value=0, max=1875), HTML(value='')))"
      ]
     },
     "metadata": {},
     "output_type": "display_data"
    },
    {
     "name": "stdout",
     "output_type": "stream",
     "text": [
      "cuda\n"
     ]
    },
    {
     "data": {
      "application/vnd.jupyter.widget-view+json": {
       "model_id": "34da8d9ca2314015837ed75b9fa7ba2d",
       "version_major": 2,
       "version_minor": 0
      },
      "text/plain": [
       "HBox(children=(IntProgress(value=0, max=1875), HTML(value='')))"
      ]
     },
     "metadata": {},
     "output_type": "display_data"
    },
    {
     "name": "stdout",
     "output_type": "stream",
     "text": [
      "cuda\n"
     ]
    },
    {
     "data": {
      "application/vnd.jupyter.widget-view+json": {
       "model_id": "8c980104feea4908b640f3a071d22b36",
       "version_major": 2,
       "version_minor": 0
      },
      "text/plain": [
       "HBox(children=(IntProgress(value=0, max=1875), HTML(value='')))"
      ]
     },
     "metadata": {},
     "output_type": "display_data"
    },
    {
     "name": "stdout",
     "output_type": "stream",
     "text": [
      "cuda\n"
     ]
    },
    {
     "data": {
      "application/vnd.jupyter.widget-view+json": {
       "model_id": "ca322a8b37d94d13bddc4b04529fe258",
       "version_major": 2,
       "version_minor": 0
      },
      "text/plain": [
       "HBox(children=(IntProgress(value=0, max=1875), HTML(value='')))"
      ]
     },
     "metadata": {},
     "output_type": "display_data"
    },
    {
     "name": "stdout",
     "output_type": "stream",
     "text": [
      "cuda\n"
     ]
    },
    {
     "data": {
      "application/vnd.jupyter.widget-view+json": {
       "model_id": "b061fd6ac52f4fc3b259835ae9d09c9a",
       "version_major": 2,
       "version_minor": 0
      },
      "text/plain": [
       "HBox(children=(IntProgress(value=0, max=1875), HTML(value='')))"
      ]
     },
     "metadata": {},
     "output_type": "display_data"
    },
    {
     "name": "stdout",
     "output_type": "stream",
     "text": [
      "cuda\n"
     ]
    },
    {
     "data": {
      "application/vnd.jupyter.widget-view+json": {
       "model_id": "e05e3ba11a95492193ef044f7327208e",
       "version_major": 2,
       "version_minor": 0
      },
      "text/plain": [
       "HBox(children=(IntProgress(value=0, max=1875), HTML(value='')))"
      ]
     },
     "metadata": {},
     "output_type": "display_data"
    },
    {
     "name": "stdout",
     "output_type": "stream",
     "text": [
      "cuda\n"
     ]
    },
    {
     "data": {
      "application/vnd.jupyter.widget-view+json": {
       "model_id": "c71def984d9949039a1a744908fbe522",
       "version_major": 2,
       "version_minor": 0
      },
      "text/plain": [
       "HBox(children=(IntProgress(value=0, max=1875), HTML(value='')))"
      ]
     },
     "metadata": {},
     "output_type": "display_data"
    },
    {
     "name": "stdout",
     "output_type": "stream",
     "text": [
      "cuda\n"
     ]
    },
    {
     "data": {
      "application/vnd.jupyter.widget-view+json": {
       "model_id": "87ecd7fa86b54a47885d0a6e72b658f9",
       "version_major": 2,
       "version_minor": 0
      },
      "text/plain": [
       "HBox(children=(IntProgress(value=0, max=1875), HTML(value='')))"
      ]
     },
     "metadata": {},
     "output_type": "display_data"
    },
    {
     "name": "stdout",
     "output_type": "stream",
     "text": [
      "cuda\n"
     ]
    },
    {
     "data": {
      "application/vnd.jupyter.widget-view+json": {
       "model_id": "da9bf769372341e382cca84279e61bf5",
       "version_major": 2,
       "version_minor": 0
      },
      "text/plain": [
       "HBox(children=(IntProgress(value=0, max=1875), HTML(value='')))"
      ]
     },
     "metadata": {},
     "output_type": "display_data"
    },
    {
     "name": "stdout",
     "output_type": "stream",
     "text": [
      "cuda\n"
     ]
    },
    {
     "data": {
      "application/vnd.jupyter.widget-view+json": {
       "model_id": "36a4ca88dd3345a7b018588bc47764d7",
       "version_major": 2,
       "version_minor": 0
      },
      "text/plain": [
       "HBox(children=(IntProgress(value=0, max=1875), HTML(value='')))"
      ]
     },
     "metadata": {},
     "output_type": "display_data"
    },
    {
     "name": "stdout",
     "output_type": "stream",
     "text": [
      "cuda\n"
     ]
    },
    {
     "data": {
      "application/vnd.jupyter.widget-view+json": {
       "model_id": "0d18aa67ac5d407f9ab0e6e70f059f96",
       "version_major": 2,
       "version_minor": 0
      },
      "text/plain": [
       "HBox(children=(IntProgress(value=0, max=1875), HTML(value='')))"
      ]
     },
     "metadata": {},
     "output_type": "display_data"
    },
    {
     "name": "stdout",
     "output_type": "stream",
     "text": [
      "cuda\n"
     ]
    },
    {
     "data": {
      "application/vnd.jupyter.widget-view+json": {
       "model_id": "b9219c4ca218476385e947192426270d",
       "version_major": 2,
       "version_minor": 0
      },
      "text/plain": [
       "HBox(children=(IntProgress(value=0, max=1875), HTML(value='')))"
      ]
     },
     "metadata": {},
     "output_type": "display_data"
    },
    {
     "name": "stdout",
     "output_type": "stream",
     "text": [
      "cuda\n"
     ]
    },
    {
     "data": {
      "application/vnd.jupyter.widget-view+json": {
       "model_id": "3e31fc3006254f4eb23996736ca4b1fb",
       "version_major": 2,
       "version_minor": 0
      },
      "text/plain": [
       "HBox(children=(IntProgress(value=0, max=1875), HTML(value='')))"
      ]
     },
     "metadata": {},
     "output_type": "display_data"
    },
    {
     "name": "stdout",
     "output_type": "stream",
     "text": [
      "cuda\n"
     ]
    },
    {
     "data": {
      "application/vnd.jupyter.widget-view+json": {
       "model_id": "a0f36674b6bf4d3285805a8e82465631",
       "version_major": 2,
       "version_minor": 0
      },
      "text/plain": [
       "HBox(children=(IntProgress(value=0, max=1875), HTML(value='')))"
      ]
     },
     "metadata": {},
     "output_type": "display_data"
    },
    {
     "name": "stdout",
     "output_type": "stream",
     "text": [
      "cuda\n"
     ]
    },
    {
     "data": {
      "application/vnd.jupyter.widget-view+json": {
       "model_id": "6a1710e8c34641ebae0ea24e2f73b7ae",
       "version_major": 2,
       "version_minor": 0
      },
      "text/plain": [
       "HBox(children=(IntProgress(value=0, max=1875), HTML(value='')))"
      ]
     },
     "metadata": {},
     "output_type": "display_data"
    },
    {
     "name": "stdout",
     "output_type": "stream",
     "text": [
      "cuda\n"
     ]
    },
    {
     "data": {
      "application/vnd.jupyter.widget-view+json": {
       "model_id": "636f272822f7424ca1197ca7e9b97914",
       "version_major": 2,
       "version_minor": 0
      },
      "text/plain": [
       "HBox(children=(IntProgress(value=0, max=1875), HTML(value='')))"
      ]
     },
     "metadata": {},
     "output_type": "display_data"
    },
    {
     "name": "stdout",
     "output_type": "stream",
     "text": [
      "cuda\n"
     ]
    },
    {
     "data": {
      "application/vnd.jupyter.widget-view+json": {
       "model_id": "14e94f06a53945c9a53c00e0cb28b9cc",
       "version_major": 2,
       "version_minor": 0
      },
      "text/plain": [
       "HBox(children=(IntProgress(value=0, max=1875), HTML(value='')))"
      ]
     },
     "metadata": {},
     "output_type": "display_data"
    },
    {
     "name": "stdout",
     "output_type": "stream",
     "text": [
      "cuda\n"
     ]
    },
    {
     "data": {
      "application/vnd.jupyter.widget-view+json": {
       "model_id": "c81c424f49714c6d8e6140ef6fa46da9",
       "version_major": 2,
       "version_minor": 0
      },
      "text/plain": [
       "HBox(children=(IntProgress(value=0, max=1875), HTML(value='')))"
      ]
     },
     "metadata": {},
     "output_type": "display_data"
    },
    {
     "name": "stdout",
     "output_type": "stream",
     "text": [
      "cuda\n"
     ]
    },
    {
     "data": {
      "application/vnd.jupyter.widget-view+json": {
       "model_id": "2990b35509004bd9a4f7a4e3d3e90967",
       "version_major": 2,
       "version_minor": 0
      },
      "text/plain": [
       "HBox(children=(IntProgress(value=0, max=1875), HTML(value='')))"
      ]
     },
     "metadata": {},
     "output_type": "display_data"
    },
    {
     "name": "stdout",
     "output_type": "stream",
     "text": [
      "cuda\n"
     ]
    },
    {
     "data": {
      "application/vnd.jupyter.widget-view+json": {
       "model_id": "cb8ce48779e4441e8ebd5bc8635cfc12",
       "version_major": 2,
       "version_minor": 0
      },
      "text/plain": [
       "HBox(children=(IntProgress(value=0, max=1875), HTML(value='')))"
      ]
     },
     "metadata": {},
     "output_type": "display_data"
    },
    {
     "name": "stdout",
     "output_type": "stream",
     "text": [
      "cuda\n"
     ]
    },
    {
     "data": {
      "application/vnd.jupyter.widget-view+json": {
       "model_id": "cbb958b20629496d94cab3d383883ef8",
       "version_major": 2,
       "version_minor": 0
      },
      "text/plain": [
       "HBox(children=(IntProgress(value=0, max=1875), HTML(value='')))"
      ]
     },
     "metadata": {},
     "output_type": "display_data"
    },
    {
     "name": "stdout",
     "output_type": "stream",
     "text": [
      "cuda\n"
     ]
    },
    {
     "data": {
      "application/vnd.jupyter.widget-view+json": {
       "model_id": "eff2c157612141d990e0d87ad812168d",
       "version_major": 2,
       "version_minor": 0
      },
      "text/plain": [
       "HBox(children=(IntProgress(value=0, max=1875), HTML(value='')))"
      ]
     },
     "metadata": {},
     "output_type": "display_data"
    },
    {
     "name": "stdout",
     "output_type": "stream",
     "text": [
      "cuda\n"
     ]
    },
    {
     "data": {
      "application/vnd.jupyter.widget-view+json": {
       "model_id": "a14dd72289d2476e9da32d2744fd5dcc",
       "version_major": 2,
       "version_minor": 0
      },
      "text/plain": [
       "HBox(children=(IntProgress(value=0, max=1875), HTML(value='')))"
      ]
     },
     "metadata": {},
     "output_type": "display_data"
    },
    {
     "name": "stdout",
     "output_type": "stream",
     "text": [
      "cuda\n"
     ]
    },
    {
     "data": {
      "application/vnd.jupyter.widget-view+json": {
       "model_id": "f5c03eba9abd41fe8e75d6c1350e56bb",
       "version_major": 2,
       "version_minor": 0
      },
      "text/plain": [
       "HBox(children=(IntProgress(value=0, max=1875), HTML(value='')))"
      ]
     },
     "metadata": {},
     "output_type": "display_data"
    },
    {
     "name": "stdout",
     "output_type": "stream",
     "text": [
      "cuda\n"
     ]
    },
    {
     "data": {
      "application/vnd.jupyter.widget-view+json": {
       "model_id": "8c06c4cbdc594c6c89027a322de1dec9",
       "version_major": 2,
       "version_minor": 0
      },
      "text/plain": [
       "HBox(children=(IntProgress(value=0, max=1875), HTML(value='')))"
      ]
     },
     "metadata": {},
     "output_type": "display_data"
    },
    {
     "name": "stdout",
     "output_type": "stream",
     "text": [
      "cuda\n"
     ]
    },
    {
     "data": {
      "application/vnd.jupyter.widget-view+json": {
       "model_id": "7ca2b46667d24908aeee9547dfea2353",
       "version_major": 2,
       "version_minor": 0
      },
      "text/plain": [
       "HBox(children=(IntProgress(value=0, max=1875), HTML(value='')))"
      ]
     },
     "metadata": {},
     "output_type": "display_data"
    },
    {
     "name": "stdout",
     "output_type": "stream",
     "text": [
      "cuda\n"
     ]
    },
    {
     "data": {
      "application/vnd.jupyter.widget-view+json": {
       "model_id": "ff6954d1c87f43698fbfd7e783ef884e",
       "version_major": 2,
       "version_minor": 0
      },
      "text/plain": [
       "HBox(children=(IntProgress(value=0, max=1875), HTML(value='')))"
      ]
     },
     "metadata": {},
     "output_type": "display_data"
    },
    {
     "name": "stdout",
     "output_type": "stream",
     "text": [
      "cuda\n"
     ]
    },
    {
     "data": {
      "application/vnd.jupyter.widget-view+json": {
       "model_id": "797ea33a1e634171a6427dbb921dce23",
       "version_major": 2,
       "version_minor": 0
      },
      "text/plain": [
       "HBox(children=(IntProgress(value=0, max=1875), HTML(value='')))"
      ]
     },
     "metadata": {},
     "output_type": "display_data"
    },
    {
     "name": "stdout",
     "output_type": "stream",
     "text": [
      "cuda\n"
     ]
    },
    {
     "data": {
      "application/vnd.jupyter.widget-view+json": {
       "model_id": "d9e981574ded41b69905d43621363237",
       "version_major": 2,
       "version_minor": 0
      },
      "text/plain": [
       "HBox(children=(IntProgress(value=0, max=1875), HTML(value='')))"
      ]
     },
     "metadata": {},
     "output_type": "display_data"
    },
    {
     "name": "stdout",
     "output_type": "stream",
     "text": [
      "cuda\n"
     ]
    },
    {
     "data": {
      "application/vnd.jupyter.widget-view+json": {
       "model_id": "509dade3680b45669f05d4a750c89264",
       "version_major": 2,
       "version_minor": 0
      },
      "text/plain": [
       "HBox(children=(IntProgress(value=0, max=1875), HTML(value='')))"
      ]
     },
     "metadata": {},
     "output_type": "display_data"
    },
    {
     "name": "stdout",
     "output_type": "stream",
     "text": [
      "cuda\n"
     ]
    },
    {
     "data": {
      "application/vnd.jupyter.widget-view+json": {
       "model_id": "f85017f17564424fba97dc01331778d2",
       "version_major": 2,
       "version_minor": 0
      },
      "text/plain": [
       "HBox(children=(IntProgress(value=0, max=1875), HTML(value='')))"
      ]
     },
     "metadata": {},
     "output_type": "display_data"
    },
    {
     "name": "stdout",
     "output_type": "stream",
     "text": [
      "cuda\n"
     ]
    },
    {
     "data": {
      "application/vnd.jupyter.widget-view+json": {
       "model_id": "807b197c930b46009f19e5d840ef20b5",
       "version_major": 2,
       "version_minor": 0
      },
      "text/plain": [
       "HBox(children=(IntProgress(value=0, max=1875), HTML(value='')))"
      ]
     },
     "metadata": {},
     "output_type": "display_data"
    },
    {
     "name": "stdout",
     "output_type": "stream",
     "text": [
      "cuda\n"
     ]
    },
    {
     "data": {
      "application/vnd.jupyter.widget-view+json": {
       "model_id": "6a58795a044b477fb35355297cb3cb53",
       "version_major": 2,
       "version_minor": 0
      },
      "text/plain": [
       "HBox(children=(IntProgress(value=0, max=1875), HTML(value='')))"
      ]
     },
     "metadata": {},
     "output_type": "display_data"
    },
    {
     "name": "stdout",
     "output_type": "stream",
     "text": [
      "cuda\n"
     ]
    },
    {
     "data": {
      "application/vnd.jupyter.widget-view+json": {
       "model_id": "43b25ef0f15d41309e20e8c055411cdd",
       "version_major": 2,
       "version_minor": 0
      },
      "text/plain": [
       "HBox(children=(IntProgress(value=0, max=1875), HTML(value='')))"
      ]
     },
     "metadata": {},
     "output_type": "display_data"
    }
   ],
   "source": [
    "TRIAL_SIZE = 50\n",
    "EPOCH = 1\n",
    "\n",
    "with tqdm(total=TRIAL_SIZE) as pbar:\n",
    "    study = optuna.create_study(pruner=optuna.pruners.MedianPruner())\n",
    "    study.optimize(objective_wrapper(pbar), n_trials=TRIAL_SIZE)"
   ]
  },
  {
   "cell_type": "code",
   "execution_count": 48,
   "metadata": {},
   "outputs": [
    {
     "data": {
      "text/plain": [
       "{'optimizer': 'Adam',\n",
       " 'weight_decay': 0.00019131849419605393,\n",
       " 'adam_lr': 0.0014739748148838122}"
      ]
     },
     "execution_count": 48,
     "metadata": {},
     "output_type": "execute_result"
    }
   ],
   "source": [
    "study.best_params"
   ]
  },
  {
   "cell_type": "code",
   "execution_count": 49,
   "metadata": {},
   "outputs": [
    {
     "data": {
      "text/plain": [
       "0.0014739748148838122"
      ]
     },
     "execution_count": 49,
     "metadata": {},
     "output_type": "execute_result"
    }
   ],
   "source": [
    "study.best_params['adam_lr']"
   ]
  },
  {
   "cell_type": "code",
   "execution_count": 50,
   "metadata": {},
   "outputs": [
    {
     "data": {
      "text/plain": [
       "0.01200000000000001"
      ]
     },
     "execution_count": 50,
     "metadata": {},
     "output_type": "execute_result"
    }
   ],
   "source": [
    "study.best_value"
   ]
  },
  {
   "cell_type": "code",
   "execution_count": 51,
   "metadata": {},
   "outputs": [
    {
     "data": {
      "application/vnd.jupyter.widget-view+json": {
       "model_id": "e8a9657cd9b64674b85852692049bae8",
       "version_major": 2,
       "version_minor": 0
      },
      "text/plain": [
       "HBox(children=(IntProgress(value=0, max=1875), HTML(value='')))"
      ]
     },
     "metadata": {},
     "output_type": "display_data"
    },
    {
     "data": {
      "application/vnd.jupyter.widget-view+json": {
       "model_id": "fd204815076d4e4e8beec17a4b120589",
       "version_major": 2,
       "version_minor": 0
      },
      "text/plain": [
       "HBox(children=(IntProgress(value=0, max=1875), HTML(value='')))"
      ]
     },
     "metadata": {},
     "output_type": "display_data"
    },
    {
     "data": {
      "application/vnd.jupyter.widget-view+json": {
       "model_id": "b83d14a4a0384594bf7940437a73ea0e",
       "version_major": 2,
       "version_minor": 0
      },
      "text/plain": [
       "HBox(children=(IntProgress(value=0, max=1875), HTML(value='')))"
      ]
     },
     "metadata": {},
     "output_type": "display_data"
    },
    {
     "data": {
      "application/vnd.jupyter.widget-view+json": {
       "model_id": "e0eb884e2a444d12b26b065195f583fc",
       "version_major": 2,
       "version_minor": 0
      },
      "text/plain": [
       "HBox(children=(IntProgress(value=0, max=1875), HTML(value='')))"
      ]
     },
     "metadata": {},
     "output_type": "display_data"
    },
    {
     "data": {
      "application/vnd.jupyter.widget-view+json": {
       "model_id": "87d58b6616cf46ec9a5b6599c2de04e5",
       "version_major": 2,
       "version_minor": 0
      },
      "text/plain": [
       "HBox(children=(IntProgress(value=0, max=1875), HTML(value='')))"
      ]
     },
     "metadata": {},
     "output_type": "display_data"
    }
   ],
   "source": [
    "for i in range(5):\n",
    "    train(model,train_dl,optim.Adam(model.parameters(),lr=study.best_params['adam_lr'],weight_decay=study.best_params['weight_decay']))"
   ]
  },
  {
   "cell_type": "code",
   "execution_count": 47,
   "metadata": {},
   "outputs": [
    {
     "data": {
      "text/plain": [
       "0.9901"
      ]
     },
     "execution_count": 47,
     "metadata": {},
     "output_type": "execute_result"
    }
   ],
   "source": [
    "1-test(model,test_dl)"
   ]
  },
  {
   "cell_type": "code",
   "execution_count": 53,
   "metadata": {},
   "outputs": [],
   "source": [
    "df = study.trials_dataframe()"
   ]
  },
  {
   "cell_type": "code",
   "execution_count": 55,
   "metadata": {},
   "outputs": [
    {
     "data": {
      "text/html": [
       "<div>\n",
       "<style scoped>\n",
       "    .dataframe tbody tr th:only-of-type {\n",
       "        vertical-align: middle;\n",
       "    }\n",
       "\n",
       "    .dataframe tbody tr th {\n",
       "        vertical-align: top;\n",
       "    }\n",
       "\n",
       "    .dataframe thead tr th {\n",
       "        text-align: left;\n",
       "    }\n",
       "</style>\n",
       "<table border=\"1\" class=\"dataframe\">\n",
       "  <thead>\n",
       "    <tr>\n",
       "      <th></th>\n",
       "      <th>number</th>\n",
       "      <th>state</th>\n",
       "      <th>value</th>\n",
       "      <th>datetime_start</th>\n",
       "      <th>datetime_complete</th>\n",
       "      <th colspan=\"4\" halign=\"left\">params</th>\n",
       "      <th>system_attrs</th>\n",
       "      <th>intermediate_values</th>\n",
       "    </tr>\n",
       "    <tr>\n",
       "      <th></th>\n",
       "      <th></th>\n",
       "      <th></th>\n",
       "      <th></th>\n",
       "      <th></th>\n",
       "      <th></th>\n",
       "      <th>adam_lr</th>\n",
       "      <th>momentum_sgd_lr</th>\n",
       "      <th>optimizer</th>\n",
       "      <th>weight_decay</th>\n",
       "      <th>_number</th>\n",
       "      <th>0</th>\n",
       "    </tr>\n",
       "  </thead>\n",
       "  <tbody>\n",
       "    <tr>\n",
       "      <th>0</th>\n",
       "      <td>0</td>\n",
       "      <td>TrialState.COMPLETE</td>\n",
       "      <td>0.1355</td>\n",
       "      <td>2019-07-15 23:51:38.487460</td>\n",
       "      <td>2019-07-15 23:52:09.109515</td>\n",
       "      <td>0.000090</td>\n",
       "      <td>NaN</td>\n",
       "      <td>Adam</td>\n",
       "      <td>6.861286e-10</td>\n",
       "      <td>0</td>\n",
       "      <td>0.1355</td>\n",
       "    </tr>\n",
       "    <tr>\n",
       "      <th>1</th>\n",
       "      <td>1</td>\n",
       "      <td>TrialState.COMPLETE</td>\n",
       "      <td>0.0143</td>\n",
       "      <td>2019-07-15 23:52:09.109937</td>\n",
       "      <td>2019-07-15 23:52:39.823919</td>\n",
       "      <td>0.007205</td>\n",
       "      <td>NaN</td>\n",
       "      <td>Adam</td>\n",
       "      <td>4.622720e-08</td>\n",
       "      <td>1</td>\n",
       "      <td>0.0143</td>\n",
       "    </tr>\n",
       "    <tr>\n",
       "      <th>2</th>\n",
       "      <td>2</td>\n",
       "      <td>TrialState.COMPLETE</td>\n",
       "      <td>0.0265</td>\n",
       "      <td>2019-07-15 23:52:39.824519</td>\n",
       "      <td>2019-07-15 23:53:04.153158</td>\n",
       "      <td>NaN</td>\n",
       "      <td>0.000971</td>\n",
       "      <td>MomentumSGD</td>\n",
       "      <td>5.418758e-04</td>\n",
       "      <td>2</td>\n",
       "      <td>0.0265</td>\n",
       "    </tr>\n",
       "    <tr>\n",
       "      <th>3</th>\n",
       "      <td>3</td>\n",
       "      <td>TrialState.COMPLETE</td>\n",
       "      <td>0.1339</td>\n",
       "      <td>2019-07-15 23:53:04.154335</td>\n",
       "      <td>2019-07-15 23:53:28.654131</td>\n",
       "      <td>NaN</td>\n",
       "      <td>0.000100</td>\n",
       "      <td>MomentumSGD</td>\n",
       "      <td>8.117865e-09</td>\n",
       "      <td>3</td>\n",
       "      <td>0.1339</td>\n",
       "    </tr>\n",
       "    <tr>\n",
       "      <th>4</th>\n",
       "      <td>4</td>\n",
       "      <td>TrialState.COMPLETE</td>\n",
       "      <td>0.0196</td>\n",
       "      <td>2019-07-15 23:53:28.655204</td>\n",
       "      <td>2019-07-15 23:53:52.791244</td>\n",
       "      <td>NaN</td>\n",
       "      <td>0.036752</td>\n",
       "      <td>MomentumSGD</td>\n",
       "      <td>2.819793e-08</td>\n",
       "      <td>4</td>\n",
       "      <td>0.0196</td>\n",
       "    </tr>\n",
       "  </tbody>\n",
       "</table>\n",
       "</div>"
      ],
      "text/plain": [
       "  number                state   value             datetime_start  \\\n",
       "                                                                   \n",
       "0      0  TrialState.COMPLETE  0.1355 2019-07-15 23:51:38.487460   \n",
       "1      1  TrialState.COMPLETE  0.0143 2019-07-15 23:52:09.109937   \n",
       "2      2  TrialState.COMPLETE  0.0265 2019-07-15 23:52:39.824519   \n",
       "3      3  TrialState.COMPLETE  0.1339 2019-07-15 23:53:04.154335   \n",
       "4      4  TrialState.COMPLETE  0.0196 2019-07-15 23:53:28.655204   \n",
       "\n",
       "           datetime_complete    params                               \\\n",
       "                               adam_lr momentum_sgd_lr    optimizer   \n",
       "0 2019-07-15 23:52:09.109515  0.000090             NaN         Adam   \n",
       "1 2019-07-15 23:52:39.823919  0.007205             NaN         Adam   \n",
       "2 2019-07-15 23:53:04.153158       NaN        0.000971  MomentumSGD   \n",
       "3 2019-07-15 23:53:28.654131       NaN        0.000100  MomentumSGD   \n",
       "4 2019-07-15 23:53:52.791244       NaN        0.036752  MomentumSGD   \n",
       "\n",
       "                system_attrs intermediate_values  \n",
       "   weight_decay      _number                   0  \n",
       "0  6.861286e-10            0              0.1355  \n",
       "1  4.622720e-08            1              0.0143  \n",
       "2  5.418758e-04            2              0.0265  \n",
       "3  8.117865e-09            3              0.1339  \n",
       "4  2.819793e-08            4              0.0196  "
      ]
     },
     "execution_count": 55,
     "metadata": {},
     "output_type": "execute_result"
    }
   ],
   "source": [
    "df.head()"
   ]
  },
  {
   "cell_type": "code",
   "execution_count": 57,
   "metadata": {},
   "outputs": [
    {
     "data": {
      "text/html": [
       "<div>\n",
       "<style scoped>\n",
       "    .dataframe tbody tr th:only-of-type {\n",
       "        vertical-align: middle;\n",
       "    }\n",
       "\n",
       "    .dataframe tbody tr th {\n",
       "        vertical-align: top;\n",
       "    }\n",
       "\n",
       "    .dataframe thead tr th {\n",
       "        text-align: left;\n",
       "    }\n",
       "</style>\n",
       "<table border=\"1\" class=\"dataframe\">\n",
       "  <thead>\n",
       "    <tr>\n",
       "      <th></th>\n",
       "      <th>number</th>\n",
       "      <th>state</th>\n",
       "      <th>value</th>\n",
       "      <th>datetime_start</th>\n",
       "      <th>datetime_complete</th>\n",
       "      <th colspan=\"4\" halign=\"left\">params</th>\n",
       "      <th>system_attrs</th>\n",
       "      <th>intermediate_values</th>\n",
       "    </tr>\n",
       "    <tr>\n",
       "      <th></th>\n",
       "      <th></th>\n",
       "      <th></th>\n",
       "      <th></th>\n",
       "      <th></th>\n",
       "      <th></th>\n",
       "      <th>adam_lr</th>\n",
       "      <th>momentum_sgd_lr</th>\n",
       "      <th>optimizer</th>\n",
       "      <th>weight_decay</th>\n",
       "      <th>_number</th>\n",
       "      <th>0</th>\n",
       "    </tr>\n",
       "  </thead>\n",
       "  <tbody>\n",
       "    <tr>\n",
       "      <th>24</th>\n",
       "      <td>24</td>\n",
       "      <td>TrialState.COMPLETE</td>\n",
       "      <td>0.0120</td>\n",
       "      <td>2019-07-16 00:03:14.357314</td>\n",
       "      <td>2019-07-16 00:03:44.942917</td>\n",
       "      <td>0.001474</td>\n",
       "      <td>NaN</td>\n",
       "      <td>Adam</td>\n",
       "      <td>1.913185e-04</td>\n",
       "      <td>24</td>\n",
       "      <td>0.0120</td>\n",
       "    </tr>\n",
       "    <tr>\n",
       "      <th>1</th>\n",
       "      <td>1</td>\n",
       "      <td>TrialState.COMPLETE</td>\n",
       "      <td>0.0143</td>\n",
       "      <td>2019-07-15 23:52:09.109937</td>\n",
       "      <td>2019-07-15 23:52:39.823919</td>\n",
       "      <td>0.007205</td>\n",
       "      <td>NaN</td>\n",
       "      <td>Adam</td>\n",
       "      <td>4.622720e-08</td>\n",
       "      <td>1</td>\n",
       "      <td>0.0143</td>\n",
       "    </tr>\n",
       "    <tr>\n",
       "      <th>16</th>\n",
       "      <td>16</td>\n",
       "      <td>TrialState.COMPLETE</td>\n",
       "      <td>0.0146</td>\n",
       "      <td>2019-07-15 23:59:11.601895</td>\n",
       "      <td>2019-07-15 23:59:41.868783</td>\n",
       "      <td>0.003975</td>\n",
       "      <td>NaN</td>\n",
       "      <td>Adam</td>\n",
       "      <td>4.034470e-06</td>\n",
       "      <td>16</td>\n",
       "      <td>0.0146</td>\n",
       "    </tr>\n",
       "    <tr>\n",
       "      <th>9</th>\n",
       "      <td>9</td>\n",
       "      <td>TrialState.COMPLETE</td>\n",
       "      <td>0.0147</td>\n",
       "      <td>2019-07-15 23:55:42.031665</td>\n",
       "      <td>2019-07-15 23:56:06.288145</td>\n",
       "      <td>NaN</td>\n",
       "      <td>0.021316</td>\n",
       "      <td>MomentumSGD</td>\n",
       "      <td>3.319922e-05</td>\n",
       "      <td>9</td>\n",
       "      <td>0.0147</td>\n",
       "    </tr>\n",
       "    <tr>\n",
       "      <th>27</th>\n",
       "      <td>27</td>\n",
       "      <td>TrialState.COMPLETE</td>\n",
       "      <td>0.0150</td>\n",
       "      <td>2019-07-16 00:04:46.124208</td>\n",
       "      <td>2019-07-16 00:05:16.700701</td>\n",
       "      <td>0.008598</td>\n",
       "      <td>NaN</td>\n",
       "      <td>Adam</td>\n",
       "      <td>2.594062e-08</td>\n",
       "      <td>27</td>\n",
       "      <td>0.0150</td>\n",
       "    </tr>\n",
       "    <tr>\n",
       "      <th>18</th>\n",
       "      <td>18</td>\n",
       "      <td>TrialState.COMPLETE</td>\n",
       "      <td>0.0154</td>\n",
       "      <td>2019-07-16 00:00:12.170658</td>\n",
       "      <td>2019-07-16 00:00:42.810779</td>\n",
       "      <td>0.004216</td>\n",
       "      <td>NaN</td>\n",
       "      <td>Adam</td>\n",
       "      <td>3.696161e-06</td>\n",
       "      <td>18</td>\n",
       "      <td>0.0154</td>\n",
       "    </tr>\n",
       "    <tr>\n",
       "      <th>12</th>\n",
       "      <td>12</td>\n",
       "      <td>TrialState.COMPLETE</td>\n",
       "      <td>0.0161</td>\n",
       "      <td>2019-07-15 23:57:07.994161</td>\n",
       "      <td>2019-07-15 23:57:38.843075</td>\n",
       "      <td>0.001521</td>\n",
       "      <td>NaN</td>\n",
       "      <td>Adam</td>\n",
       "      <td>1.070563e-10</td>\n",
       "      <td>12</td>\n",
       "      <td>0.0161</td>\n",
       "    </tr>\n",
       "    <tr>\n",
       "      <th>40</th>\n",
       "      <td>40</td>\n",
       "      <td>TrialState.COMPLETE</td>\n",
       "      <td>0.0161</td>\n",
       "      <td>2019-07-16 00:10:55.952270</td>\n",
       "      <td>2019-07-16 00:11:20.442152</td>\n",
       "      <td>NaN</td>\n",
       "      <td>0.012749</td>\n",
       "      <td>MomentumSGD</td>\n",
       "      <td>1.520565e-08</td>\n",
       "      <td>40</td>\n",
       "      <td>0.0161</td>\n",
       "    </tr>\n",
       "    <tr>\n",
       "      <th>30</th>\n",
       "      <td>30</td>\n",
       "      <td>TrialState.COMPLETE</td>\n",
       "      <td>0.0168</td>\n",
       "      <td>2019-07-16 00:06:13.166648</td>\n",
       "      <td>2019-07-16 00:06:44.396502</td>\n",
       "      <td>0.001767</td>\n",
       "      <td>NaN</td>\n",
       "      <td>Adam</td>\n",
       "      <td>1.197752e-04</td>\n",
       "      <td>30</td>\n",
       "      <td>0.0168</td>\n",
       "    </tr>\n",
       "    <tr>\n",
       "      <th>25</th>\n",
       "      <td>25</td>\n",
       "      <td>TrialState.COMPLETE</td>\n",
       "      <td>0.0171</td>\n",
       "      <td>2019-07-16 00:03:44.951208</td>\n",
       "      <td>2019-07-16 00:04:15.485369</td>\n",
       "      <td>0.001219</td>\n",
       "      <td>NaN</td>\n",
       "      <td>Adam</td>\n",
       "      <td>1.989868e-04</td>\n",
       "      <td>25</td>\n",
       "      <td>0.0171</td>\n",
       "    </tr>\n",
       "    <tr>\n",
       "      <th>38</th>\n",
       "      <td>38</td>\n",
       "      <td>TrialState.COMPLETE</td>\n",
       "      <td>0.0172</td>\n",
       "      <td>2019-07-16 00:09:53.757143</td>\n",
       "      <td>2019-07-16 00:10:24.831773</td>\n",
       "      <td>0.002085</td>\n",
       "      <td>NaN</td>\n",
       "      <td>Adam</td>\n",
       "      <td>4.475497e-09</td>\n",
       "      <td>38</td>\n",
       "      <td>0.0172</td>\n",
       "    </tr>\n",
       "    <tr>\n",
       "      <th>37</th>\n",
       "      <td>37</td>\n",
       "      <td>TrialState.COMPLETE</td>\n",
       "      <td>0.0179</td>\n",
       "      <td>2019-07-16 00:09:29.009616</td>\n",
       "      <td>2019-07-16 00:09:53.749637</td>\n",
       "      <td>NaN</td>\n",
       "      <td>0.083437</td>\n",
       "      <td>MomentumSGD</td>\n",
       "      <td>1.751013e-10</td>\n",
       "      <td>37</td>\n",
       "      <td>0.0179</td>\n",
       "    </tr>\n",
       "    <tr>\n",
       "      <th>23</th>\n",
       "      <td>23</td>\n",
       "      <td>TrialState.COMPLETE</td>\n",
       "      <td>0.0181</td>\n",
       "      <td>2019-07-16 00:02:43.375726</td>\n",
       "      <td>2019-07-16 00:03:14.352341</td>\n",
       "      <td>0.003240</td>\n",
       "      <td>NaN</td>\n",
       "      <td>Adam</td>\n",
       "      <td>3.849386e-07</td>\n",
       "      <td>23</td>\n",
       "      <td>0.0181</td>\n",
       "    </tr>\n",
       "    <tr>\n",
       "      <th>10</th>\n",
       "      <td>10</td>\n",
       "      <td>TrialState.COMPLETE</td>\n",
       "      <td>0.0185</td>\n",
       "      <td>2019-07-15 23:56:06.290408</td>\n",
       "      <td>2019-07-15 23:56:36.836779</td>\n",
       "      <td>0.015516</td>\n",
       "      <td>NaN</td>\n",
       "      <td>Adam</td>\n",
       "      <td>6.837477e-06</td>\n",
       "      <td>10</td>\n",
       "      <td>0.0185</td>\n",
       "    </tr>\n",
       "    <tr>\n",
       "      <th>32</th>\n",
       "      <td>32</td>\n",
       "      <td>TrialState.COMPLETE</td>\n",
       "      <td>0.0186</td>\n",
       "      <td>2019-07-16 00:07:08.475453</td>\n",
       "      <td>2019-07-16 00:07:39.092164</td>\n",
       "      <td>0.090252</td>\n",
       "      <td>NaN</td>\n",
       "      <td>Adam</td>\n",
       "      <td>1.161537e-08</td>\n",
       "      <td>32</td>\n",
       "      <td>0.0186</td>\n",
       "    </tr>\n",
       "    <tr>\n",
       "      <th>22</th>\n",
       "      <td>22</td>\n",
       "      <td>TrialState.COMPLETE</td>\n",
       "      <td>0.0191</td>\n",
       "      <td>2019-07-16 00:02:12.935531</td>\n",
       "      <td>2019-07-16 00:02:43.371373</td>\n",
       "      <td>0.012439</td>\n",
       "      <td>NaN</td>\n",
       "      <td>Adam</td>\n",
       "      <td>2.477016e-05</td>\n",
       "      <td>22</td>\n",
       "      <td>0.0191</td>\n",
       "    </tr>\n",
       "    <tr>\n",
       "      <th>4</th>\n",
       "      <td>4</td>\n",
       "      <td>TrialState.COMPLETE</td>\n",
       "      <td>0.0196</td>\n",
       "      <td>2019-07-15 23:53:28.655204</td>\n",
       "      <td>2019-07-15 23:53:52.791244</td>\n",
       "      <td>NaN</td>\n",
       "      <td>0.036752</td>\n",
       "      <td>MomentumSGD</td>\n",
       "      <td>2.819793e-08</td>\n",
       "      <td>4</td>\n",
       "      <td>0.0196</td>\n",
       "    </tr>\n",
       "    <tr>\n",
       "      <th>34</th>\n",
       "      <td>34</td>\n",
       "      <td>TrialState.COMPLETE</td>\n",
       "      <td>0.0199</td>\n",
       "      <td>2019-07-16 00:08:03.126140</td>\n",
       "      <td>2019-07-16 00:08:33.515169</td>\n",
       "      <td>0.000686</td>\n",
       "      <td>NaN</td>\n",
       "      <td>Adam</td>\n",
       "      <td>7.594253e-07</td>\n",
       "      <td>34</td>\n",
       "      <td>0.0199</td>\n",
       "    </tr>\n",
       "    <tr>\n",
       "      <th>48</th>\n",
       "      <td>48</td>\n",
       "      <td>TrialState.COMPLETE</td>\n",
       "      <td>0.0199</td>\n",
       "      <td>2019-07-16 00:14:49.046289</td>\n",
       "      <td>2019-07-16 00:15:13.311635</td>\n",
       "      <td>NaN</td>\n",
       "      <td>0.007230</td>\n",
       "      <td>MomentumSGD</td>\n",
       "      <td>2.492220e-08</td>\n",
       "      <td>48</td>\n",
       "      <td>0.0199</td>\n",
       "    </tr>\n",
       "    <tr>\n",
       "      <th>49</th>\n",
       "      <td>49</td>\n",
       "      <td>TrialState.COMPLETE</td>\n",
       "      <td>0.0199</td>\n",
       "      <td>2019-07-16 00:15:13.321134</td>\n",
       "      <td>2019-07-16 00:15:44.374167</td>\n",
       "      <td>0.011053</td>\n",
       "      <td>NaN</td>\n",
       "      <td>Adam</td>\n",
       "      <td>4.906168e-09</td>\n",
       "      <td>49</td>\n",
       "      <td>0.0199</td>\n",
       "    </tr>\n",
       "    <tr>\n",
       "      <th>20</th>\n",
       "      <td>20</td>\n",
       "      <td>TrialState.COMPLETE</td>\n",
       "      <td>0.0200</td>\n",
       "      <td>2019-07-16 00:01:12.812653</td>\n",
       "      <td>2019-07-16 00:01:42.794474</td>\n",
       "      <td>0.000868</td>\n",
       "      <td>NaN</td>\n",
       "      <td>Adam</td>\n",
       "      <td>1.069923e-07</td>\n",
       "      <td>20</td>\n",
       "      <td>0.0200</td>\n",
       "    </tr>\n",
       "    <tr>\n",
       "      <th>19</th>\n",
       "      <td>19</td>\n",
       "      <td>TrialState.COMPLETE</td>\n",
       "      <td>0.0219</td>\n",
       "      <td>2019-07-16 00:00:42.814524</td>\n",
       "      <td>2019-07-16 00:01:12.808675</td>\n",
       "      <td>0.005679</td>\n",
       "      <td>NaN</td>\n",
       "      <td>Adam</td>\n",
       "      <td>5.591579e-05</td>\n",
       "      <td>19</td>\n",
       "      <td>0.0219</td>\n",
       "    </tr>\n",
       "    <tr>\n",
       "      <th>8</th>\n",
       "      <td>8</td>\n",
       "      <td>TrialState.COMPLETE</td>\n",
       "      <td>0.0219</td>\n",
       "      <td>2019-07-15 23:55:11.641338</td>\n",
       "      <td>2019-07-15 23:55:42.029606</td>\n",
       "      <td>0.020390</td>\n",
       "      <td>NaN</td>\n",
       "      <td>Adam</td>\n",
       "      <td>2.886948e-10</td>\n",
       "      <td>8</td>\n",
       "      <td>0.0219</td>\n",
       "    </tr>\n",
       "    <tr>\n",
       "      <th>15</th>\n",
       "      <td>15</td>\n",
       "      <td>TrialState.COMPLETE</td>\n",
       "      <td>0.0220</td>\n",
       "      <td>2019-07-15 23:58:40.480924</td>\n",
       "      <td>2019-07-15 23:59:11.598259</td>\n",
       "      <td>0.092822</td>\n",
       "      <td>NaN</td>\n",
       "      <td>Adam</td>\n",
       "      <td>1.645288e-07</td>\n",
       "      <td>15</td>\n",
       "      <td>0.0220</td>\n",
       "    </tr>\n",
       "    <tr>\n",
       "      <th>14</th>\n",
       "      <td>14</td>\n",
       "      <td>TrialState.COMPLETE</td>\n",
       "      <td>0.0223</td>\n",
       "      <td>2019-07-15 23:58:09.621352</td>\n",
       "      <td>2019-07-15 23:58:40.476257</td>\n",
       "      <td>0.032885</td>\n",
       "      <td>NaN</td>\n",
       "      <td>Adam</td>\n",
       "      <td>2.033458e-09</td>\n",
       "      <td>14</td>\n",
       "      <td>0.0223</td>\n",
       "    </tr>\n",
       "    <tr>\n",
       "      <th>11</th>\n",
       "      <td>11</td>\n",
       "      <td>TrialState.COMPLETE</td>\n",
       "      <td>0.0223</td>\n",
       "      <td>2019-07-15 23:56:36.841252</td>\n",
       "      <td>2019-07-15 23:57:07.991732</td>\n",
       "      <td>0.000407</td>\n",
       "      <td>NaN</td>\n",
       "      <td>Adam</td>\n",
       "      <td>4.138348e-08</td>\n",
       "      <td>11</td>\n",
       "      <td>0.0223</td>\n",
       "    </tr>\n",
       "    <tr>\n",
       "      <th>5</th>\n",
       "      <td>5</td>\n",
       "      <td>TrialState.COMPLETE</td>\n",
       "      <td>0.0223</td>\n",
       "      <td>2019-07-15 23:53:52.792508</td>\n",
       "      <td>2019-07-15 23:54:23.570344</td>\n",
       "      <td>0.000380</td>\n",
       "      <td>NaN</td>\n",
       "      <td>Adam</td>\n",
       "      <td>5.350289e-07</td>\n",
       "      <td>5</td>\n",
       "      <td>0.0223</td>\n",
       "    </tr>\n",
       "    <tr>\n",
       "      <th>46</th>\n",
       "      <td>46</td>\n",
       "      <td>TrialState.COMPLETE</td>\n",
       "      <td>0.0229</td>\n",
       "      <td>2019-07-16 00:13:47.688080</td>\n",
       "      <td>2019-07-16 00:14:18.096184</td>\n",
       "      <td>0.000420</td>\n",
       "      <td>NaN</td>\n",
       "      <td>Adam</td>\n",
       "      <td>1.582323e-05</td>\n",
       "      <td>46</td>\n",
       "      <td>0.0229</td>\n",
       "    </tr>\n",
       "    <tr>\n",
       "      <th>47</th>\n",
       "      <td>47</td>\n",
       "      <td>TrialState.COMPLETE</td>\n",
       "      <td>0.0233</td>\n",
       "      <td>2019-07-16 00:14:18.105690</td>\n",
       "      <td>2019-07-16 00:14:49.037699</td>\n",
       "      <td>0.025304</td>\n",
       "      <td>NaN</td>\n",
       "      <td>Adam</td>\n",
       "      <td>2.790120e-06</td>\n",
       "      <td>47</td>\n",
       "      <td>0.0233</td>\n",
       "    </tr>\n",
       "    <tr>\n",
       "      <th>45</th>\n",
       "      <td>45</td>\n",
       "      <td>TrialState.COMPLETE</td>\n",
       "      <td>0.0236</td>\n",
       "      <td>2019-07-16 00:13:17.243872</td>\n",
       "      <td>2019-07-16 00:13:47.678676</td>\n",
       "      <td>0.002697</td>\n",
       "      <td>NaN</td>\n",
       "      <td>Adam</td>\n",
       "      <td>9.195322e-05</td>\n",
       "      <td>45</td>\n",
       "      <td>0.0236</td>\n",
       "    </tr>\n",
       "    <tr>\n",
       "      <th>42</th>\n",
       "      <td>42</td>\n",
       "      <td>TrialState.COMPLETE</td>\n",
       "      <td>0.0238</td>\n",
       "      <td>2019-07-16 00:11:51.332986</td>\n",
       "      <td>2019-07-16 00:12:22.223205</td>\n",
       "      <td>0.007359</td>\n",
       "      <td>NaN</td>\n",
       "      <td>Adam</td>\n",
       "      <td>5.335731e-08</td>\n",
       "      <td>42</td>\n",
       "      <td>0.0238</td>\n",
       "    </tr>\n",
       "    <tr>\n",
       "      <th>6</th>\n",
       "      <td>6</td>\n",
       "      <td>TrialState.COMPLETE</td>\n",
       "      <td>0.0243</td>\n",
       "      <td>2019-07-15 23:54:23.571784</td>\n",
       "      <td>2019-07-15 23:54:47.632296</td>\n",
       "      <td>NaN</td>\n",
       "      <td>0.001805</td>\n",
       "      <td>MomentumSGD</td>\n",
       "      <td>9.118487e-09</td>\n",
       "      <td>6</td>\n",
       "      <td>0.0243</td>\n",
       "    </tr>\n",
       "    <tr>\n",
       "      <th>7</th>\n",
       "      <td>7</td>\n",
       "      <td>TrialState.COMPLETE</td>\n",
       "      <td>0.0253</td>\n",
       "      <td>2019-07-15 23:54:47.633870</td>\n",
       "      <td>2019-07-15 23:55:11.639300</td>\n",
       "      <td>NaN</td>\n",
       "      <td>0.000898</td>\n",
       "      <td>MomentumSGD</td>\n",
       "      <td>9.669129e-07</td>\n",
       "      <td>7</td>\n",
       "      <td>0.0253</td>\n",
       "    </tr>\n",
       "    <tr>\n",
       "      <th>2</th>\n",
       "      <td>2</td>\n",
       "      <td>TrialState.COMPLETE</td>\n",
       "      <td>0.0265</td>\n",
       "      <td>2019-07-15 23:52:39.824519</td>\n",
       "      <td>2019-07-15 23:53:04.153158</td>\n",
       "      <td>NaN</td>\n",
       "      <td>0.000971</td>\n",
       "      <td>MomentumSGD</td>\n",
       "      <td>5.418758e-04</td>\n",
       "      <td>2</td>\n",
       "      <td>0.0265</td>\n",
       "    </tr>\n",
       "    <tr>\n",
       "      <th>44</th>\n",
       "      <td>44</td>\n",
       "      <td>TrialState.COMPLETE</td>\n",
       "      <td>0.0273</td>\n",
       "      <td>2019-07-16 00:12:46.225176</td>\n",
       "      <td>2019-07-16 00:13:17.234172</td>\n",
       "      <td>0.032669</td>\n",
       "      <td>NaN</td>\n",
       "      <td>Adam</td>\n",
       "      <td>4.473515e-07</td>\n",
       "      <td>44</td>\n",
       "      <td>0.0273</td>\n",
       "    </tr>\n",
       "    <tr>\n",
       "      <th>41</th>\n",
       "      <td>41</td>\n",
       "      <td>TrialState.COMPLETE</td>\n",
       "      <td>0.0291</td>\n",
       "      <td>2019-07-16 00:11:20.450598</td>\n",
       "      <td>2019-07-16 00:11:51.325203</td>\n",
       "      <td>0.000203</td>\n",
       "      <td>NaN</td>\n",
       "      <td>Adam</td>\n",
       "      <td>5.545562e-04</td>\n",
       "      <td>41</td>\n",
       "      <td>0.0291</td>\n",
       "    </tr>\n",
       "    <tr>\n",
       "      <th>26</th>\n",
       "      <td>26</td>\n",
       "      <td>TrialState.COMPLETE</td>\n",
       "      <td>0.0349</td>\n",
       "      <td>2019-07-16 00:04:15.490582</td>\n",
       "      <td>2019-07-16 00:04:46.119136</td>\n",
       "      <td>0.000347</td>\n",
       "      <td>NaN</td>\n",
       "      <td>Adam</td>\n",
       "      <td>3.515777e-09</td>\n",
       "      <td>26</td>\n",
       "      <td>0.0349</td>\n",
       "    </tr>\n",
       "    <tr>\n",
       "      <th>36</th>\n",
       "      <td>36</td>\n",
       "      <td>TrialState.COMPLETE</td>\n",
       "      <td>0.0463</td>\n",
       "      <td>2019-07-16 00:08:58.098181</td>\n",
       "      <td>2019-07-16 00:09:29.002434</td>\n",
       "      <td>0.000150</td>\n",
       "      <td>NaN</td>\n",
       "      <td>Adam</td>\n",
       "      <td>2.277640e-07</td>\n",
       "      <td>36</td>\n",
       "      <td>0.0463</td>\n",
       "    </tr>\n",
       "    <tr>\n",
       "      <th>29</th>\n",
       "      <td>29</td>\n",
       "      <td>TrialState.COMPLETE</td>\n",
       "      <td>0.0517</td>\n",
       "      <td>2019-07-16 00:05:48.036388</td>\n",
       "      <td>2019-07-16 00:06:13.160854</td>\n",
       "      <td>NaN</td>\n",
       "      <td>0.000278</td>\n",
       "      <td>MomentumSGD</td>\n",
       "      <td>8.073465e-08</td>\n",
       "      <td>29</td>\n",
       "      <td>0.0517</td>\n",
       "    </tr>\n",
       "    <tr>\n",
       "      <th>35</th>\n",
       "      <td>35</td>\n",
       "      <td>TrialState.COMPLETE</td>\n",
       "      <td>0.0570</td>\n",
       "      <td>2019-07-16 00:08:33.526555</td>\n",
       "      <td>2019-07-16 00:08:58.090551</td>\n",
       "      <td>NaN</td>\n",
       "      <td>0.000213</td>\n",
       "      <td>MomentumSGD</td>\n",
       "      <td>1.142642e-09</td>\n",
       "      <td>35</td>\n",
       "      <td>0.0570</td>\n",
       "    </tr>\n",
       "    <tr>\n",
       "      <th>13</th>\n",
       "      <td>13</td>\n",
       "      <td>TrialState.COMPLETE</td>\n",
       "      <td>0.0708</td>\n",
       "      <td>2019-07-15 23:57:38.845809</td>\n",
       "      <td>2019-07-15 23:58:09.618336</td>\n",
       "      <td>0.052127</td>\n",
       "      <td>NaN</td>\n",
       "      <td>Adam</td>\n",
       "      <td>2.811000e-04</td>\n",
       "      <td>13</td>\n",
       "      <td>0.0708</td>\n",
       "    </tr>\n",
       "    <tr>\n",
       "      <th>21</th>\n",
       "      <td>21</td>\n",
       "      <td>TrialState.COMPLETE</td>\n",
       "      <td>0.1178</td>\n",
       "      <td>2019-07-16 00:01:42.798731</td>\n",
       "      <td>2019-07-16 00:02:12.931326</td>\n",
       "      <td>0.000109</td>\n",
       "      <td>NaN</td>\n",
       "      <td>Adam</td>\n",
       "      <td>1.902037e-06</td>\n",
       "      <td>21</td>\n",
       "      <td>0.1178</td>\n",
       "    </tr>\n",
       "    <tr>\n",
       "      <th>33</th>\n",
       "      <td>33</td>\n",
       "      <td>TrialState.COMPLETE</td>\n",
       "      <td>0.1213</td>\n",
       "      <td>2019-07-16 00:07:39.102162</td>\n",
       "      <td>2019-07-16 00:08:03.119261</td>\n",
       "      <td>NaN</td>\n",
       "      <td>0.000112</td>\n",
       "      <td>MomentumSGD</td>\n",
       "      <td>1.383287e-05</td>\n",
       "      <td>33</td>\n",
       "      <td>0.1213</td>\n",
       "    </tr>\n",
       "    <tr>\n",
       "      <th>3</th>\n",
       "      <td>3</td>\n",
       "      <td>TrialState.COMPLETE</td>\n",
       "      <td>0.1339</td>\n",
       "      <td>2019-07-15 23:53:04.154335</td>\n",
       "      <td>2019-07-15 23:53:28.654131</td>\n",
       "      <td>NaN</td>\n",
       "      <td>0.000100</td>\n",
       "      <td>MomentumSGD</td>\n",
       "      <td>8.117865e-09</td>\n",
       "      <td>3</td>\n",
       "      <td>0.1339</td>\n",
       "    </tr>\n",
       "    <tr>\n",
       "      <th>0</th>\n",
       "      <td>0</td>\n",
       "      <td>TrialState.COMPLETE</td>\n",
       "      <td>0.1355</td>\n",
       "      <td>2019-07-15 23:51:38.487460</td>\n",
       "      <td>2019-07-15 23:52:09.109515</td>\n",
       "      <td>0.000090</td>\n",
       "      <td>NaN</td>\n",
       "      <td>Adam</td>\n",
       "      <td>6.861286e-10</td>\n",
       "      <td>0</td>\n",
       "      <td>0.1355</td>\n",
       "    </tr>\n",
       "    <tr>\n",
       "      <th>17</th>\n",
       "      <td>17</td>\n",
       "      <td>TrialState.COMPLETE</td>\n",
       "      <td>0.1463</td>\n",
       "      <td>2019-07-15 23:59:41.872564</td>\n",
       "      <td>2019-07-16 00:00:12.166942</td>\n",
       "      <td>0.000042</td>\n",
       "      <td>NaN</td>\n",
       "      <td>Adam</td>\n",
       "      <td>6.528370e-06</td>\n",
       "      <td>17</td>\n",
       "      <td>0.1463</td>\n",
       "    </tr>\n",
       "    <tr>\n",
       "      <th>31</th>\n",
       "      <td>31</td>\n",
       "      <td>TrialState.COMPLETE</td>\n",
       "      <td>0.3122</td>\n",
       "      <td>2019-07-16 00:06:44.402379</td>\n",
       "      <td>2019-07-16 00:07:08.468578</td>\n",
       "      <td>NaN</td>\n",
       "      <td>0.000052</td>\n",
       "      <td>MomentumSGD</td>\n",
       "      <td>8.822413e-04</td>\n",
       "      <td>31</td>\n",
       "      <td>0.3122</td>\n",
       "    </tr>\n",
       "    <tr>\n",
       "      <th>39</th>\n",
       "      <td>39</td>\n",
       "      <td>TrialState.COMPLETE</td>\n",
       "      <td>0.4111</td>\n",
       "      <td>2019-07-16 00:10:24.838980</td>\n",
       "      <td>2019-07-16 00:10:55.944380</td>\n",
       "      <td>0.000033</td>\n",
       "      <td>NaN</td>\n",
       "      <td>Adam</td>\n",
       "      <td>1.270205e-06</td>\n",
       "      <td>39</td>\n",
       "      <td>0.4111</td>\n",
       "    </tr>\n",
       "    <tr>\n",
       "      <th>28</th>\n",
       "      <td>28</td>\n",
       "      <td>TrialState.COMPLETE</td>\n",
       "      <td>0.6725</td>\n",
       "      <td>2019-07-16 00:05:16.706075</td>\n",
       "      <td>2019-07-16 00:05:48.028062</td>\n",
       "      <td>0.000011</td>\n",
       "      <td>NaN</td>\n",
       "      <td>Adam</td>\n",
       "      <td>6.966240e-10</td>\n",
       "      <td>28</td>\n",
       "      <td>0.6725</td>\n",
       "    </tr>\n",
       "    <tr>\n",
       "      <th>43</th>\n",
       "      <td>43</td>\n",
       "      <td>TrialState.COMPLETE</td>\n",
       "      <td>0.8681</td>\n",
       "      <td>2019-07-16 00:12:22.231479</td>\n",
       "      <td>2019-07-16 00:12:46.211197</td>\n",
       "      <td>NaN</td>\n",
       "      <td>0.000013</td>\n",
       "      <td>MomentumSGD</td>\n",
       "      <td>4.398958e-10</td>\n",
       "      <td>43</td>\n",
       "      <td>0.8681</td>\n",
       "    </tr>\n",
       "  </tbody>\n",
       "</table>\n",
       "</div>"
      ],
      "text/plain": [
       "   number                state   value             datetime_start  \\\n",
       "                                                                    \n",
       "24     24  TrialState.COMPLETE  0.0120 2019-07-16 00:03:14.357314   \n",
       "1       1  TrialState.COMPLETE  0.0143 2019-07-15 23:52:09.109937   \n",
       "16     16  TrialState.COMPLETE  0.0146 2019-07-15 23:59:11.601895   \n",
       "9       9  TrialState.COMPLETE  0.0147 2019-07-15 23:55:42.031665   \n",
       "27     27  TrialState.COMPLETE  0.0150 2019-07-16 00:04:46.124208   \n",
       "18     18  TrialState.COMPLETE  0.0154 2019-07-16 00:00:12.170658   \n",
       "12     12  TrialState.COMPLETE  0.0161 2019-07-15 23:57:07.994161   \n",
       "40     40  TrialState.COMPLETE  0.0161 2019-07-16 00:10:55.952270   \n",
       "30     30  TrialState.COMPLETE  0.0168 2019-07-16 00:06:13.166648   \n",
       "25     25  TrialState.COMPLETE  0.0171 2019-07-16 00:03:44.951208   \n",
       "38     38  TrialState.COMPLETE  0.0172 2019-07-16 00:09:53.757143   \n",
       "37     37  TrialState.COMPLETE  0.0179 2019-07-16 00:09:29.009616   \n",
       "23     23  TrialState.COMPLETE  0.0181 2019-07-16 00:02:43.375726   \n",
       "10     10  TrialState.COMPLETE  0.0185 2019-07-15 23:56:06.290408   \n",
       "32     32  TrialState.COMPLETE  0.0186 2019-07-16 00:07:08.475453   \n",
       "22     22  TrialState.COMPLETE  0.0191 2019-07-16 00:02:12.935531   \n",
       "4       4  TrialState.COMPLETE  0.0196 2019-07-15 23:53:28.655204   \n",
       "34     34  TrialState.COMPLETE  0.0199 2019-07-16 00:08:03.126140   \n",
       "48     48  TrialState.COMPLETE  0.0199 2019-07-16 00:14:49.046289   \n",
       "49     49  TrialState.COMPLETE  0.0199 2019-07-16 00:15:13.321134   \n",
       "20     20  TrialState.COMPLETE  0.0200 2019-07-16 00:01:12.812653   \n",
       "19     19  TrialState.COMPLETE  0.0219 2019-07-16 00:00:42.814524   \n",
       "8       8  TrialState.COMPLETE  0.0219 2019-07-15 23:55:11.641338   \n",
       "15     15  TrialState.COMPLETE  0.0220 2019-07-15 23:58:40.480924   \n",
       "14     14  TrialState.COMPLETE  0.0223 2019-07-15 23:58:09.621352   \n",
       "11     11  TrialState.COMPLETE  0.0223 2019-07-15 23:56:36.841252   \n",
       "5       5  TrialState.COMPLETE  0.0223 2019-07-15 23:53:52.792508   \n",
       "46     46  TrialState.COMPLETE  0.0229 2019-07-16 00:13:47.688080   \n",
       "47     47  TrialState.COMPLETE  0.0233 2019-07-16 00:14:18.105690   \n",
       "45     45  TrialState.COMPLETE  0.0236 2019-07-16 00:13:17.243872   \n",
       "42     42  TrialState.COMPLETE  0.0238 2019-07-16 00:11:51.332986   \n",
       "6       6  TrialState.COMPLETE  0.0243 2019-07-15 23:54:23.571784   \n",
       "7       7  TrialState.COMPLETE  0.0253 2019-07-15 23:54:47.633870   \n",
       "2       2  TrialState.COMPLETE  0.0265 2019-07-15 23:52:39.824519   \n",
       "44     44  TrialState.COMPLETE  0.0273 2019-07-16 00:12:46.225176   \n",
       "41     41  TrialState.COMPLETE  0.0291 2019-07-16 00:11:20.450598   \n",
       "26     26  TrialState.COMPLETE  0.0349 2019-07-16 00:04:15.490582   \n",
       "36     36  TrialState.COMPLETE  0.0463 2019-07-16 00:08:58.098181   \n",
       "29     29  TrialState.COMPLETE  0.0517 2019-07-16 00:05:48.036388   \n",
       "35     35  TrialState.COMPLETE  0.0570 2019-07-16 00:08:33.526555   \n",
       "13     13  TrialState.COMPLETE  0.0708 2019-07-15 23:57:38.845809   \n",
       "21     21  TrialState.COMPLETE  0.1178 2019-07-16 00:01:42.798731   \n",
       "33     33  TrialState.COMPLETE  0.1213 2019-07-16 00:07:39.102162   \n",
       "3       3  TrialState.COMPLETE  0.1339 2019-07-15 23:53:04.154335   \n",
       "0       0  TrialState.COMPLETE  0.1355 2019-07-15 23:51:38.487460   \n",
       "17     17  TrialState.COMPLETE  0.1463 2019-07-15 23:59:41.872564   \n",
       "31     31  TrialState.COMPLETE  0.3122 2019-07-16 00:06:44.402379   \n",
       "39     39  TrialState.COMPLETE  0.4111 2019-07-16 00:10:24.838980   \n",
       "28     28  TrialState.COMPLETE  0.6725 2019-07-16 00:05:16.706075   \n",
       "43     43  TrialState.COMPLETE  0.8681 2019-07-16 00:12:22.231479   \n",
       "\n",
       "            datetime_complete    params                               \\\n",
       "                                adam_lr momentum_sgd_lr    optimizer   \n",
       "24 2019-07-16 00:03:44.942917  0.001474             NaN         Adam   \n",
       "1  2019-07-15 23:52:39.823919  0.007205             NaN         Adam   \n",
       "16 2019-07-15 23:59:41.868783  0.003975             NaN         Adam   \n",
       "9  2019-07-15 23:56:06.288145       NaN        0.021316  MomentumSGD   \n",
       "27 2019-07-16 00:05:16.700701  0.008598             NaN         Adam   \n",
       "18 2019-07-16 00:00:42.810779  0.004216             NaN         Adam   \n",
       "12 2019-07-15 23:57:38.843075  0.001521             NaN         Adam   \n",
       "40 2019-07-16 00:11:20.442152       NaN        0.012749  MomentumSGD   \n",
       "30 2019-07-16 00:06:44.396502  0.001767             NaN         Adam   \n",
       "25 2019-07-16 00:04:15.485369  0.001219             NaN         Adam   \n",
       "38 2019-07-16 00:10:24.831773  0.002085             NaN         Adam   \n",
       "37 2019-07-16 00:09:53.749637       NaN        0.083437  MomentumSGD   \n",
       "23 2019-07-16 00:03:14.352341  0.003240             NaN         Adam   \n",
       "10 2019-07-15 23:56:36.836779  0.015516             NaN         Adam   \n",
       "32 2019-07-16 00:07:39.092164  0.090252             NaN         Adam   \n",
       "22 2019-07-16 00:02:43.371373  0.012439             NaN         Adam   \n",
       "4  2019-07-15 23:53:52.791244       NaN        0.036752  MomentumSGD   \n",
       "34 2019-07-16 00:08:33.515169  0.000686             NaN         Adam   \n",
       "48 2019-07-16 00:15:13.311635       NaN        0.007230  MomentumSGD   \n",
       "49 2019-07-16 00:15:44.374167  0.011053             NaN         Adam   \n",
       "20 2019-07-16 00:01:42.794474  0.000868             NaN         Adam   \n",
       "19 2019-07-16 00:01:12.808675  0.005679             NaN         Adam   \n",
       "8  2019-07-15 23:55:42.029606  0.020390             NaN         Adam   \n",
       "15 2019-07-15 23:59:11.598259  0.092822             NaN         Adam   \n",
       "14 2019-07-15 23:58:40.476257  0.032885             NaN         Adam   \n",
       "11 2019-07-15 23:57:07.991732  0.000407             NaN         Adam   \n",
       "5  2019-07-15 23:54:23.570344  0.000380             NaN         Adam   \n",
       "46 2019-07-16 00:14:18.096184  0.000420             NaN         Adam   \n",
       "47 2019-07-16 00:14:49.037699  0.025304             NaN         Adam   \n",
       "45 2019-07-16 00:13:47.678676  0.002697             NaN         Adam   \n",
       "42 2019-07-16 00:12:22.223205  0.007359             NaN         Adam   \n",
       "6  2019-07-15 23:54:47.632296       NaN        0.001805  MomentumSGD   \n",
       "7  2019-07-15 23:55:11.639300       NaN        0.000898  MomentumSGD   \n",
       "2  2019-07-15 23:53:04.153158       NaN        0.000971  MomentumSGD   \n",
       "44 2019-07-16 00:13:17.234172  0.032669             NaN         Adam   \n",
       "41 2019-07-16 00:11:51.325203  0.000203             NaN         Adam   \n",
       "26 2019-07-16 00:04:46.119136  0.000347             NaN         Adam   \n",
       "36 2019-07-16 00:09:29.002434  0.000150             NaN         Adam   \n",
       "29 2019-07-16 00:06:13.160854       NaN        0.000278  MomentumSGD   \n",
       "35 2019-07-16 00:08:58.090551       NaN        0.000213  MomentumSGD   \n",
       "13 2019-07-15 23:58:09.618336  0.052127             NaN         Adam   \n",
       "21 2019-07-16 00:02:12.931326  0.000109             NaN         Adam   \n",
       "33 2019-07-16 00:08:03.119261       NaN        0.000112  MomentumSGD   \n",
       "3  2019-07-15 23:53:28.654131       NaN        0.000100  MomentumSGD   \n",
       "0  2019-07-15 23:52:09.109515  0.000090             NaN         Adam   \n",
       "17 2019-07-16 00:00:12.166942  0.000042             NaN         Adam   \n",
       "31 2019-07-16 00:07:08.468578       NaN        0.000052  MomentumSGD   \n",
       "39 2019-07-16 00:10:55.944380  0.000033             NaN         Adam   \n",
       "28 2019-07-16 00:05:48.028062  0.000011             NaN         Adam   \n",
       "43 2019-07-16 00:12:46.211197       NaN        0.000013  MomentumSGD   \n",
       "\n",
       "                 system_attrs intermediate_values  \n",
       "    weight_decay      _number                   0  \n",
       "24  1.913185e-04           24              0.0120  \n",
       "1   4.622720e-08            1              0.0143  \n",
       "16  4.034470e-06           16              0.0146  \n",
       "9   3.319922e-05            9              0.0147  \n",
       "27  2.594062e-08           27              0.0150  \n",
       "18  3.696161e-06           18              0.0154  \n",
       "12  1.070563e-10           12              0.0161  \n",
       "40  1.520565e-08           40              0.0161  \n",
       "30  1.197752e-04           30              0.0168  \n",
       "25  1.989868e-04           25              0.0171  \n",
       "38  4.475497e-09           38              0.0172  \n",
       "37  1.751013e-10           37              0.0179  \n",
       "23  3.849386e-07           23              0.0181  \n",
       "10  6.837477e-06           10              0.0185  \n",
       "32  1.161537e-08           32              0.0186  \n",
       "22  2.477016e-05           22              0.0191  \n",
       "4   2.819793e-08            4              0.0196  \n",
       "34  7.594253e-07           34              0.0199  \n",
       "48  2.492220e-08           48              0.0199  \n",
       "49  4.906168e-09           49              0.0199  \n",
       "20  1.069923e-07           20              0.0200  \n",
       "19  5.591579e-05           19              0.0219  \n",
       "8   2.886948e-10            8              0.0219  \n",
       "15  1.645288e-07           15              0.0220  \n",
       "14  2.033458e-09           14              0.0223  \n",
       "11  4.138348e-08           11              0.0223  \n",
       "5   5.350289e-07            5              0.0223  \n",
       "46  1.582323e-05           46              0.0229  \n",
       "47  2.790120e-06           47              0.0233  \n",
       "45  9.195322e-05           45              0.0236  \n",
       "42  5.335731e-08           42              0.0238  \n",
       "6   9.118487e-09            6              0.0243  \n",
       "7   9.669129e-07            7              0.0253  \n",
       "2   5.418758e-04            2              0.0265  \n",
       "44  4.473515e-07           44              0.0273  \n",
       "41  5.545562e-04           41              0.0291  \n",
       "26  3.515777e-09           26              0.0349  \n",
       "36  2.277640e-07           36              0.0463  \n",
       "29  8.073465e-08           29              0.0517  \n",
       "35  1.142642e-09           35              0.0570  \n",
       "13  2.811000e-04           13              0.0708  \n",
       "21  1.902037e-06           21              0.1178  \n",
       "33  1.383287e-05           33              0.1213  \n",
       "3   8.117865e-09            3              0.1339  \n",
       "0   6.861286e-10            0              0.1355  \n",
       "17  6.528370e-06           17              0.1463  \n",
       "31  8.822413e-04           31              0.3122  \n",
       "39  1.270205e-06           39              0.4111  \n",
       "28  6.966240e-10           28              0.6725  \n",
       "43  4.398958e-10           43              0.8681  "
      ]
     },
     "execution_count": 57,
     "metadata": {},
     "output_type": "execute_result"
    }
   ],
   "source": [
    "df.sort_values(['value'])"
   ]
  },
  {
   "cell_type": "code",
   "execution_count": null,
   "metadata": {},
   "outputs": [],
   "source": []
  }
 ],
 "metadata": {
  "kernelspec": {
   "display_name": "Python 3",
   "language": "python",
   "name": "python3"
  },
  "language_info": {
   "codemirror_mode": {
    "name": "ipython",
    "version": 3
   },
   "file_extension": ".py",
   "mimetype": "text/x-python",
   "name": "python",
   "nbconvert_exporter": "python",
   "pygments_lexer": "ipython3",
   "version": "3.6.8"
  }
 },
 "nbformat": 4,
 "nbformat_minor": 2
}
