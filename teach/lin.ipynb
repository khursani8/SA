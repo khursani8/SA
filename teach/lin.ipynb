{
 "cells": [
  {
   "cell_type": "code",
   "execution_count": 1,
   "metadata": {},
   "outputs": [],
   "source": [
    "import torch\n",
    "import torchvision\n",
    "from torch import nn,tensor\n",
    "import torchvision.transforms as transforms\n",
    "from PIL import Image\n",
    "import matplotlib.pyplot as plt\n",
    "import numpy as np\n",
    "import pandas as pd\n",
    "from collections import OrderedDict\n",
    "from IPython.display import display, clear_output\n",
    "from tqdm import tqdm_notebook as tqdm"
   ]
  },
  {
   "cell_type": "markdown",
   "metadata": {},
   "source": [
    "# Data"
   ]
  },
  {
   "cell_type": "code",
   "execution_count": 2,
   "metadata": {},
   "outputs": [
    {
     "data": {
      "text/plain": [
       "Dataset MNIST\n",
       "    Number of datapoints: 10000\n",
       "    Root location: ../data\n",
       "    Split: Test"
      ]
     },
     "execution_count": 2,
     "metadata": {},
     "output_type": "execute_result"
    }
   ],
   "source": [
    "train_set = torchvision.datasets.MNIST('../data',transform=transforms.Compose([\n",
    "    transforms.ToTensor()\n",
    "]))\n",
    "val_set = torchvision.datasets.MNIST('../data',train=False,transform=transforms.Compose([\n",
    "    transforms.ToTensor()\n",
    "]))\n",
    "val_set"
   ]
  },
  {
   "cell_type": "code",
   "execution_count": 3,
   "metadata": {},
   "outputs": [],
   "source": [
    "# create Data loader\n",
    "train_dl = torch.utils.data.DataLoader(train_set,batch_size=32,shuffle=True,num_workers=12)\n",
    "val_dl = torch.utils.data.DataLoader(val_set,batch_size=32,shuffle=True,num_workers=12)"
   ]
  },
  {
   "cell_type": "code",
   "execution_count": 4,
   "metadata": {},
   "outputs": [
    {
     "name": "stdout",
     "output_type": "stream",
     "text": [
      "tensor([8, 5, 3, 2, 2, 5, 4, 4, 0, 1, 6, 0, 7, 9, 6, 4, 1, 0, 0, 6, 1, 9, 6, 1,\n",
      "        5, 8, 1, 6, 5, 0, 3, 8])\n"
     ]
    },
    {
     "data": {
      "image/png": "[encoded data removed]",
      "text/plain": [
       "<Figure size 432x288 with 1 Axes>"
      ]
     },
     "metadata": {
      "needs_background": "light"
     },
     "output_type": "display_data"
    }
   ],
   "source": [
    "x = next(iter(train_dl))\n",
    "grid = torchvision.utils.make_grid(x[0])\n",
    "plt.imshow(np.transpose(grid,(1,2,0)))\n",
    "print(x[1])"
   ]
  },
  {
   "cell_type": "markdown",
   "metadata": {},
   "source": [
    "# Architecture/Model"
   ]
  },
  {
   "cell_type": "code",
   "execution_count": 5,
   "metadata": {},
   "outputs": [
    {
     "data": {
      "text/plain": [
       "10"
      ]
     },
     "execution_count": 5,
     "metadata": {},
     "output_type": "execute_result"
    }
   ],
   "source": [
    "len(train_set.classes)"
   ]
  },
  {
   "cell_type": "code",
   "execution_count": 6,
   "metadata": {},
   "outputs": [
    {
     "data": {
      "text/plain": [
       "784"
      ]
     },
     "execution_count": 6,
     "metadata": {},
     "output_type": "execute_result"
    }
   ],
   "source": [
    "x[0][0].numel()"
   ]
  },
  {
   "cell_type": "code",
   "execution_count": 7,
   "metadata": {},
   "outputs": [
    {
     "data": {
      "text/plain": [
       "Linear(in_features=784, out_features=10, bias=True)"
      ]
     },
     "execution_count": 7,
     "metadata": {},
     "output_type": "execute_result"
    }
   ],
   "source": [
    "model = nn.Linear(x[0][0].numel(),len(train_set.classes))\n",
    "model"
   ]
  },
  {
   "cell_type": "markdown",
   "metadata": {},
   "source": [
    "# Loss function"
   ]
  },
  {
   "cell_type": "code",
   "execution_count": 8,
   "metadata": {},
   "outputs": [
    {
     "data": {
      "text/plain": [
       "CrossEntropyLoss()"
      ]
     },
     "execution_count": 8,
     "metadata": {},
     "output_type": "execute_result"
    }
   ],
   "source": [
    "loss_func = nn.CrossEntropyLoss()\n",
    "loss_func"
   ]
  },
  {
   "cell_type": "markdown",
   "metadata": {},
   "source": [
    "# optimizer"
   ]
  },
  {
   "cell_type": "code",
   "execution_count": 9,
   "metadata": {},
   "outputs": [
    {
     "data": {
      "text/plain": [
       "Adam (\n",
       "Parameter Group 0\n",
       "    amsgrad: False\n",
       "    betas: (0.9, 0.999)\n",
       "    eps: 1e-08\n",
       "    lr: 0.001\n",
       "    weight_decay: 0\n",
       ")"
      ]
     },
     "execution_count": 9,
     "metadata": {},
     "output_type": "execute_result"
    }
   ],
   "source": [
    "optimizer = torch.optim.Adam(model.parameters(),lr=0.001)\n",
    "optimizer"
   ]
  },
  {
   "cell_type": "markdown",
   "metadata": {},
   "source": [
    "# start training"
   ]
  },
  {
   "cell_type": "code",
   "execution_count": 35,
   "metadata": {},
   "outputs": [],
   "source": [
    "def one_epoch_train(train_dl,model):\n",
    "    results = OrderedDict()\n",
    "#     model.cuda()\n",
    "    running_loss = 0\n",
    "    for img,y in tqdm(train_dl):\n",
    "#         img,y = img.cuda(),y.cuda()\n",
    "        optimizer.zero_grad()\n",
    "        y_hat = model(img.view(32,-1))\n",
    "        loss = loss_func(y_hat,y)\n",
    "        running_loss += loss.item()\n",
    "        loss.backward()\n",
    "        optimizer.step()\n",
    "#     print('train accuracy:',(y_hat.argmax(1)==y).float().mean())\n",
    "    with torch.no_grad():\n",
    "        correct = 0\n",
    "        loss = 0\n",
    "        for img,y in val_dl:\n",
    "            y_hat = model(img.view(img.size(0),-1))\n",
    "            loss += loss_func(y_hat,y)\n",
    "            correct += (y_hat.argmax(1)==y).float().sum()\n",
    "#         print('running loss',loss.item())\n",
    "#         print('valid accuracy',correct.item()/len(val_set))  \n",
    "    results['loss'] = running_loss / len(train_dl)\n",
    "    results[\"valid_loss\"] = loss.item() / len(val_dl)\n",
    "    results['accuracy'] = (y_hat.argmax(1)==y).float().mean().item()\n",
    "    results[\"valid_acc\"] = correct.item()/len(val_set)\n",
    "    run_data.append(results)\n",
    "    df = pd.DataFrame.from_dict(run_data)\n",
    "    clear_output(wait=True)\n",
    "    display(df)\n",
    "    "
   ]
  },
  {
   "cell_type": "code",
   "execution_count": 30,
   "metadata": {},
   "outputs": [],
   "source": [
    "def valid(model,val_dl):\n",
    "    with torch.no_grad():\n",
    "        correct = 0\n",
    "        loss = 0\n",
    "        for img,y in val_dl:\n",
    "            y_hat = model(img.view(img.size(0),-1))\n",
    "            loss += loss_func(y_hat,y)\n",
    "            correct += (y_hat.argmax(1)==y).float().sum()\n",
    "        print('running loss',loss.item())\n",
    "        print('valid accuracy',correct.item()/len(val_set))    "
   ]
  },
  {
   "cell_type": "code",
   "execution_count": 36,
   "metadata": {},
   "outputs": [
    {
     "data": {
      "text/html": [
       "<div>\n",
       "<style scoped>\n",
       "    .dataframe tbody tr th:only-of-type {\n",
       "        vertical-align: middle;\n",
       "    }\n",
       "\n",
       "    .dataframe tbody tr th {\n",
       "        vertical-align: top;\n",
       "    }\n",
       "\n",
       "    .dataframe thead th {\n",
       "        text-align: right;\n",
       "    }\n",
       "</style>\n",
       "<table border=\"1\" class=\"dataframe\">\n",
       "  <thead>\n",
       "    <tr style=\"text-align: right;\">\n",
       "      <th></th>\n",
       "      <th>loss</th>\n",
       "      <th>valid_loss</th>\n",
       "      <th>accuracy</th>\n",
       "      <th>valid_acc</th>\n",
       "    </tr>\n",
       "  </thead>\n",
       "  <tbody>\n",
       "    <tr>\n",
       "      <th>0</th>\n",
       "      <td>0.242065</td>\n",
       "      <td>0.272141</td>\n",
       "      <td>0.8750</td>\n",
       "      <td>0.9260</td>\n",
       "    </tr>\n",
       "    <tr>\n",
       "      <th>1</th>\n",
       "      <td>0.241463</td>\n",
       "      <td>0.269373</td>\n",
       "      <td>1.0000</td>\n",
       "      <td>0.9276</td>\n",
       "    </tr>\n",
       "    <tr>\n",
       "      <th>2</th>\n",
       "      <td>0.240435</td>\n",
       "      <td>0.266185</td>\n",
       "      <td>0.9375</td>\n",
       "      <td>0.9284</td>\n",
       "    </tr>\n",
       "    <tr>\n",
       "      <th>3</th>\n",
       "      <td>0.240108</td>\n",
       "      <td>0.265150</td>\n",
       "      <td>0.9375</td>\n",
       "      <td>0.9272</td>\n",
       "    </tr>\n",
       "    <tr>\n",
       "      <th>4</th>\n",
       "      <td>0.238978</td>\n",
       "      <td>0.272174</td>\n",
       "      <td>1.0000</td>\n",
       "      <td>0.9260</td>\n",
       "    </tr>\n",
       "  </tbody>\n",
       "</table>\n",
       "</div>"
      ],
      "text/plain": [
       "       loss  valid_loss  accuracy  valid_acc\n",
       "0  0.242065    0.272141    0.8750     0.9260\n",
       "1  0.241463    0.269373    1.0000     0.9276\n",
       "2  0.240435    0.266185    0.9375     0.9284\n",
       "3  0.240108    0.265150    0.9375     0.9272\n",
       "4  0.238978    0.272174    1.0000     0.9260"
      ]
     },
     "metadata": {},
     "output_type": "display_data"
    }
   ],
   "source": [
    "run_data = []\n",
    "for i in range(5):\n",
    "    one_epoch_train(train_dl,model)\n",
    "#     valid(model,val_dl)"
   ]
  },
  {
   "cell_type": "code",
   "execution_count": 2,
   "metadata": {},
   "outputs": [],
   "source": [
    "d = nn.Dropout()"
   ]
  },
  {
   "cell_type": "code",
   "execution_count": 12,
   "metadata": {},
   "outputs": [
    {
     "data": {
      "text/plain": [
       "tensor([0., 0., 6., 8., 0., 0.])"
      ]
     },
     "execution_count": 12,
     "metadata": {},
     "output_type": "execute_result"
    }
   ],
   "source": [
    "inp = tensor([1.,2.,3.,4.,5.,6.])\n",
    "d(inp)"
   ]
  },
  {
   "cell_type": "code",
   "execution_count": null,
   "metadata": {},
   "outputs": [],
   "source": []
  }
 ],
 "metadata": {
  "kernelspec": {
   "display_name": "Python 3",
   "language": "python",
   "name": "python3"
  },
  "language_info": {
   "codemirror_mode": {
    "name": "ipython",
    "version": 3
   },
   "file_extension": ".py",
   "mimetype": "text/x-python",
   "name": "python",
   "nbconvert_exporter": "python",
   "pygments_lexer": "ipython3",
   "version": "3.7.4"
  }
 },
 "nbformat": 4,
 "nbformat_minor": 2
}
