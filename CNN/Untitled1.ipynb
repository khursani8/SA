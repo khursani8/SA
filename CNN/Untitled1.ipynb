{
 "cells": [
  {
   "cell_type": "code",
   "execution_count": 19,
   "metadata": {},
   "outputs": [],
   "source": [
    "import torch\n",
    "import torchvision\n",
    "import torchvision.datasets as dsets\n",
    "import torchvision.transforms as transforms\n",
    "from PIL import Image"
   ]
  },
  {
   "cell_type": "code",
   "execution_count": 6,
   "metadata": {},
   "outputs": [
    {
     "name": "stderr",
     "output_type": "stream",
     "text": [
      "\r",
      "0it [00:00, ?it/s]"
     ]
    },
    {
     "name": "stdout",
     "output_type": "stream",
     "text": [
      "Downloading https://www.cs.toronto.edu/~kriz/cifar-10-python.tar.gz to ./data/cifar-10-python.tar.gz\n"
     ]
    },
    {
     "name": "stderr",
     "output_type": "stream",
     "text": [
      "170500096it [01:11, 3176876.12it/s]                               "
     ]
    },
    {
     "data": {
      "text/plain": [
       "Dataset CIFAR10\n",
       "    Number of datapoints: 50000\n",
       "    Root location: ./data\n",
       "    Split: Train"
      ]
     },
     "execution_count": 6,
     "metadata": {},
     "output_type": "execute_result"
    },
    {
     "name": "stderr",
     "output_type": "stream",
     "text": [
      "\r",
      "170500096it [01:30, 3176876.12it/s]"
     ]
    }
   ],
   "source": [
    "train = dsets.CIFAR10('./data',transform=transforms.Compose([\n",
    "    transforms.Resize((224,224)),\n",
    "    transforms.ToTensor()\n",
    "]),download=True)\n",
    "train"
   ]
  },
  {
   "cell_type": "code",
   "execution_count": 23,
   "metadata": {},
   "outputs": [],
   "source": [
    "??train"
   ]
  },
  {
   "cell_type": "code",
   "execution_count": 16,
   "metadata": {},
   "outputs": [
    {
     "data": {
      "text/plain": [
       "(tensor([[[0.2314, 0.2314, 0.2314,  ..., 0.5804, 0.5804, 0.5804],\n",
       "          [0.2314, 0.2314, 0.2314,  ..., 0.5804, 0.5804, 0.5804],\n",
       "          [0.2314, 0.2314, 0.2314,  ..., 0.5804, 0.5804, 0.5804],\n",
       "          ...,\n",
       "          [0.6941, 0.6941, 0.6941,  ..., 0.4824, 0.4824, 0.4824],\n",
       "          [0.6941, 0.6941, 0.6941,  ..., 0.4824, 0.4824, 0.4824],\n",
       "          [0.6941, 0.6941, 0.6941,  ..., 0.4824, 0.4824, 0.4824]],\n",
       " \n",
       "         [[0.2431, 0.2431, 0.2431,  ..., 0.4863, 0.4863, 0.4863],\n",
       "          [0.2431, 0.2431, 0.2431,  ..., 0.4863, 0.4863, 0.4863],\n",
       "          [0.2431, 0.2431, 0.2431,  ..., 0.4863, 0.4863, 0.4863],\n",
       "          ...,\n",
       "          [0.5647, 0.5647, 0.5647,  ..., 0.3608, 0.3608, 0.3608],\n",
       "          [0.5647, 0.5647, 0.5647,  ..., 0.3608, 0.3608, 0.3608],\n",
       "          [0.5647, 0.5647, 0.5647,  ..., 0.3608, 0.3608, 0.3608]],\n",
       " \n",
       "         [[0.2471, 0.2471, 0.2471,  ..., 0.4039, 0.4039, 0.4039],\n",
       "          [0.2471, 0.2471, 0.2471,  ..., 0.4039, 0.4039, 0.4039],\n",
       "          [0.2471, 0.2471, 0.2471,  ..., 0.4039, 0.4039, 0.4039],\n",
       "          ...,\n",
       "          [0.4549, 0.4549, 0.4549,  ..., 0.2824, 0.2824, 0.2824],\n",
       "          [0.4549, 0.4549, 0.4549,  ..., 0.2824, 0.2824, 0.2824],\n",
       "          [0.4549, 0.4549, 0.4549,  ..., 0.2824, 0.2824, 0.2824]]]), 6)"
      ]
     },
     "execution_count": 16,
     "metadata": {},
     "output_type": "execute_result"
    }
   ],
   "source": [
    "train[0]"
   ]
  },
  {
   "cell_type": "code",
   "execution_count": 25,
   "metadata": {},
   "outputs": [
    {
     "data": {
      "text/plain": [
       "tensor([[[0.2314, 0.1686, 0.1961,  ..., 0.6196, 0.5961, 0.5804],\n",
       "         [0.0627, 0.0000, 0.0706,  ..., 0.4824, 0.4667, 0.4784],\n",
       "         [0.0980, 0.0627, 0.1922,  ..., 0.4627, 0.4706, 0.4275],\n",
       "         ...,\n",
       "         [0.8157, 0.7882, 0.7765,  ..., 0.6275, 0.2196, 0.2078],\n",
       "         [0.7059, 0.6784, 0.7294,  ..., 0.7216, 0.3804, 0.3255],\n",
       "         [0.6941, 0.6588, 0.7020,  ..., 0.8471, 0.5922, 0.4824]],\n",
       "\n",
       "        [[0.2431, 0.1804, 0.1882,  ..., 0.5176, 0.4902, 0.4863],\n",
       "         [0.0784, 0.0000, 0.0314,  ..., 0.3451, 0.3255, 0.3412],\n",
       "         [0.0941, 0.0275, 0.1059,  ..., 0.3294, 0.3294, 0.2863],\n",
       "         ...,\n",
       "         [0.6667, 0.6000, 0.6314,  ..., 0.5216, 0.1216, 0.1333],\n",
       "         [0.5451, 0.4824, 0.5647,  ..., 0.5804, 0.2431, 0.2078],\n",
       "         [0.5647, 0.5059, 0.5569,  ..., 0.7216, 0.4627, 0.3608]],\n",
       "\n",
       "        [[0.2471, 0.1765, 0.1686,  ..., 0.4235, 0.4000, 0.4039],\n",
       "         [0.0784, 0.0000, 0.0000,  ..., 0.2157, 0.1961, 0.2235],\n",
       "         [0.0824, 0.0000, 0.0314,  ..., 0.1961, 0.1961, 0.1647],\n",
       "         ...,\n",
       "         [0.3765, 0.1333, 0.1020,  ..., 0.2745, 0.0275, 0.0784],\n",
       "         [0.3765, 0.1647, 0.1176,  ..., 0.3686, 0.1333, 0.1333],\n",
       "         [0.4549, 0.3686, 0.3412,  ..., 0.5490, 0.3294, 0.2824]]])"
      ]
     },
     "execution_count": 25,
     "metadata": {},
     "output_type": "execute_result"
    }
   ],
   "source": [
    "transforms.ToTensor()(Image.fromarray(train.data[0]))"
   ]
  },
  {
   "cell_type": "code",
   "execution_count": null,
   "metadata": {},
   "outputs": [],
   "source": []
  }
 ],
 "metadata": {
  "kernelspec": {
   "display_name": "Python 3",
   "language": "python",
   "name": "python3"
  },
  "language_info": {
   "codemirror_mode": {
    "name": "ipython",
    "version": 3
   },
   "file_extension": ".py",
   "mimetype": "text/x-python",
   "name": "python",
   "nbconvert_exporter": "python",
   "pygments_lexer": "ipython3",
   "version": "3.6.8"
  }
 },
 "nbformat": 4,
 "nbformat_minor": 2
}
